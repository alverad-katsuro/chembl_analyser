{
 "cells": [
  {
   "cell_type": "code",
   "execution_count": null,
   "id": "2d05fdef",
   "metadata": {},
   "outputs": [],
   "source": [
    "import sqlite3\n",
    "import pandas as pd\n",
    "import seaborn as sns\n",
    "from matplotlib import pyplot as plt\n",
    "import numpy as np"
   ]
  },
  {
   "cell_type": "code",
   "execution_count": null,
   "id": "f357c39e",
   "metadata": {},
   "outputs": [],
   "source": [
    "con = sqlite3.connect(\"../data/propriedades.db\")"
   ]
  },
  {
   "cell_type": "code",
   "execution_count": null,
   "id": "d904857b",
   "metadata": {},
   "outputs": [],
   "source": [
    "dataframe = pd.read_sql(\"select * from dados\", con)"
   ]
  },
  {
   "cell_type": "code",
   "execution_count": null,
   "id": "6345eeeb",
   "metadata": {},
   "outputs": [],
   "source": [
    "dataframe"
   ]
  },
  {
   "cell_type": "code",
   "execution_count": null,
   "id": "e3b806d2",
   "metadata": {},
   "outputs": [],
   "source": [
    "df = dataframe[['chembl_id', 'canonical_smiles']]\n",
    "df"
   ]
  },
  {
   "cell_type": "code",
   "execution_count": null,
   "id": "70328763",
   "metadata": {},
   "outputs": [],
   "source": [
    "temp = df.to_numpy()"
   ]
  },
  {
   "cell_type": "code",
   "execution_count": null,
   "id": "c2dc09a7",
   "metadata": {},
   "outputs": [],
   "source": [
    "temp"
   ]
  },
  {
   "cell_type": "code",
   "execution_count": null,
   "id": "1dc3fc36",
   "metadata": {},
   "outputs": [],
   "source": [
    "from rdkit import Chem"
   ]
  },
  {
   "cell_type": "code",
   "execution_count": null,
   "id": "aa8a36e0",
   "metadata": {},
   "outputs": [],
   "source": [
    "smiles = '[H]/N=C/[C@H](C[C@@H]1CCNC1=O)NC(=O)[C@@H]2[C@@H]3[C@@H](C3(C)C)CN2C(=O)[C@H](C(C)(C)C)NC(=O)C(F)(F)F'"
   ]
  },
  {
   "cell_type": "code",
   "execution_count": null,
   "id": "9f2e2bdc",
   "metadata": {},
   "outputs": [],
   "source": [
    "pf = Chem.MolFromSmiles(smiles)"
   ]
  },
  {
   "cell_type": "code",
   "execution_count": null,
   "id": "5ce47205",
   "metadata": {},
   "outputs": [],
   "source": [
    "pf_finger = Chem.RDKFingerprint(pf)"
   ]
  },
  {
   "cell_type": "code",
   "execution_count": null,
   "id": "b28cd4ab",
   "metadata": {},
   "outputs": [],
   "source": [
    "dataframe.query(\"canonical_smiles == @smiles\")"
   ]
  },
  {
   "cell_type": "code",
   "execution_count": null,
   "id": "b4f6c1c9",
   "metadata": {},
   "outputs": [],
   "source": [
    "inter = []"
   ]
  },
  {
   "cell_type": "code",
   "execution_count": null,
   "id": "f1e6e26c",
   "metadata": {},
   "outputs": [],
   "source": [
    "import subprocess\n",
    "import threading\n",
    "import queue\n",
    "import os\n",
    "sys.path.append(\"../module/\")\n",
    "from calcula_tanimoto import *"
   ]
  },
  {
   "cell_type": "code",
   "execution_count": null,
   "id": "4c36627a",
   "metadata": {},
   "outputs": [],
   "source": [
    "teste = calcula_tanimoto(smiles, df, 20)"
   ]
  }
 ],
 "metadata": {
  "kernelspec": {
   "display_name": "Python 3 (ipykernel)",
   "language": "python",
   "name": "python3"
  },
  "language_info": {
   "codemirror_mode": {
    "name": "ipython",
    "version": 3
   },
   "file_extension": ".py",
   "mimetype": "text/x-python",
   "name": "python",
   "nbconvert_exporter": "python",
   "pygments_lexer": "ipython3",
   "version": "3.9.10"
  }
 },
 "nbformat": 4,
 "nbformat_minor": 5
}
