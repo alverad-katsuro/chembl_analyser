{
 "cells": [
  {
   "cell_type": "code",
   "execution_count": 1,
   "metadata": {},
   "outputs": [
    {
     "name": "stderr",
     "output_type": "stream",
     "text": [
      "2022-01-31 23:17:57,798\tINFO services.py:1338 -- View the Ray dashboard at \u001b[1m\u001b[32mhttp://127.0.0.1:8265\u001b[39m\u001b[22m\n"
     ]
    },
    {
     "data": {
      "text/plain": [
       "{'node_ip_address': '10.22.1.50',\n",
       " 'raylet_ip_address': '10.22.1.50',\n",
       " 'redis_address': '10.22.1.50:6379',\n",
       " 'object_store_address': '/tmp/ray/session_2022-01-31_23-17-54_547197_383989/sockets/plasma_store',\n",
       " 'raylet_socket_name': '/tmp/ray/session_2022-01-31_23-17-54_547197_383989/sockets/raylet',\n",
       " 'webui_url': '127.0.0.1:8265',\n",
       " 'session_dir': '/tmp/ray/session_2022-01-31_23-17-54_547197_383989',\n",
       " 'metrics_export_port': 50286,\n",
       " 'node_id': 'd7814181ae60c6739c6024ea8aa5024d6e4a4d5f44005427a48fe108'}"
      ]
     },
     "execution_count": 1,
     "metadata": {},
     "output_type": "execute_result"
    }
   ],
   "source": [
    "# To add a new cell, type '# %%'\n",
    "# To add a new markdown cell, type '# %% [markdown]'\n",
    "# %%\n",
    "import modin.pandas as pd\n",
    "import sqlite3\n",
    "import seaborn as sns\n",
    "from matplotlib import pyplot as plt\n",
    "from sklearn.cluster import KMeans\n",
    "from sklearn import preprocessing\n",
    "import numpy as np\n",
    "from matplotlib import pyplot as ptl\n",
    "import seaborn as sns\n",
    "import sys, os\n",
    "sys.path.append(\"../module/\")\n",
    "from lipinski import * \n",
    "import ray\n",
    "ray.init()"
   ]
  },
  {
   "cell_type": "code",
   "execution_count": 2,
   "metadata": {},
   "outputs": [],
   "source": [
    "pd.options.display.max_columns = 30"
   ]
  },
  {
   "cell_type": "code",
   "execution_count": 3,
   "metadata": {},
   "outputs": [],
   "source": [
    "con = sqlite3.connect(\"../data/chembl_29.db\")"
   ]
  },
  {
   "cell_type": "code",
   "execution_count": 4,
   "metadata": {
    "scrolled": true
   },
   "outputs": [
    {
     "name": "stderr",
     "output_type": "stream",
     "text": [
      "UserWarning: `read_sql_query` defaulting to pandas implementation.\n",
      "To request implementation, send an email to feature_requests@modin.org.\n"
     ]
    }
   ],
   "source": [
    "molregno_chembl_id = pd.read_sql_query(\"SELECT compound_properties.*, molecule_dictionary.chembl_id, compound_structures.canonical_smiles FROM compound_properties INNER JOIN compound_structures ON compound_structures.molregno=compound_properties.molregno INNER JOIN molecule_dictionary ON molecule_dictionary.molregno=compound_properties.molregno;\", con)"
   ]
  },
  {
   "cell_type": "code",
   "execution_count": 5,
   "metadata": {
    "scrolled": true
   },
   "outputs": [],
   "source": [
    "molregno_chembl_id = molregno_chembl_id.drop(['ro3_pass', 'hba', 'hbd', 'num_ro5_violations', 'full_molformula'], axis=1)"
   ]
  },
  {
   "cell_type": "code",
   "execution_count": 6,
   "metadata": {
    "scrolled": true
   },
   "outputs": [],
   "source": [
    "molregno_chembl_id = pd.merge(molregno_chembl_id.chembl_id, molregno_chembl_id)"
   ]
  },
  {
   "cell_type": "code",
   "execution_count": 7,
   "metadata": {},
   "outputs": [],
   "source": [
    "molregno_chembl_id = molregno_chembl_id.drop(['molregno'], axis=1)"
   ]
  },
  {
   "cell_type": "code",
   "execution_count": 8,
   "metadata": {},
   "outputs": [],
   "source": [
    "molregno_chembl_id = molregno_chembl_id.iloc[:100, :]"
   ]
  },
  {
   "cell_type": "code",
   "execution_count": 9,
   "metadata": {},
   "outputs": [
    {
     "name": "stderr",
     "output_type": "stream",
     "text": [
      "UserWarning: User-defined function verification is still under development in Modin. The function provided is not verified.\n",
      "UserWarning: `DataFrame.sort_values` for empty DataFrame defaulting to pandas implementation.\n",
      "UserWarning: Distributing <class 'pandas.core.frame.DataFrame'> object. This may take some time.\n"
     ]
    }
   ],
   "source": [
    "index_duplicates = molregno_chembl_id[molregno_chembl_id.canonical_smiles.duplicated()].sort_values(by=['canonical_smiles']).index"
   ]
  },
  {
   "cell_type": "code",
   "execution_count": 10,
   "metadata": {},
   "outputs": [
    {
     "data": {
      "text/html": [
       "<div>\n",
       "<style scoped>\n",
       "    .dataframe tbody tr th:only-of-type {\n",
       "        vertical-align: middle;\n",
       "    }\n",
       "\n",
       "    .dataframe tbody tr th {\n",
       "        vertical-align: top;\n",
       "    }\n",
       "\n",
       "    .dataframe thead th {\n",
       "        text-align: right;\n",
       "    }\n",
       "</style>\n",
       "<table border=\"1\" class=\"dataframe\">\n",
       "  <thead>\n",
       "    <tr style=\"text-align: right;\">\n",
       "      <th></th>\n",
       "      <th>chembl_id</th>\n",
       "      <th>mw_freebase</th>\n",
       "      <th>alogp</th>\n",
       "      <th>psa</th>\n",
       "      <th>rtb</th>\n",
       "      <th>cx_most_apka</th>\n",
       "      <th>cx_most_bpka</th>\n",
       "      <th>cx_logp</th>\n",
       "      <th>cx_logd</th>\n",
       "      <th>molecular_species</th>\n",
       "      <th>full_mwt</th>\n",
       "      <th>aromatic_rings</th>\n",
       "      <th>heavy_atoms</th>\n",
       "      <th>qed_weighted</th>\n",
       "      <th>mw_monoisotopic</th>\n",
       "      <th>hba_lipinski</th>\n",
       "      <th>hbd_lipinski</th>\n",
       "      <th>num_lipinski_ro5_violations</th>\n",
       "      <th>canonical_smiles</th>\n",
       "    </tr>\n",
       "  </thead>\n",
       "  <tbody>\n",
       "    <tr>\n",
       "      <th>0</th>\n",
       "      <td>CHEMBL6329</td>\n",
       "      <td>341.75</td>\n",
       "      <td>2.11</td>\n",
       "      <td>84.82</td>\n",
       "      <td>3.0</td>\n",
       "      <td>6.48</td>\n",
       "      <td>NaN</td>\n",
       "      <td>3.63</td>\n",
       "      <td>2.69</td>\n",
       "      <td>ACID</td>\n",
       "      <td>341.75</td>\n",
       "      <td>3.0</td>\n",
       "      <td>24.0</td>\n",
       "      <td>0.74</td>\n",
       "      <td>341.0567</td>\n",
       "      <td>6.0</td>\n",
       "      <td>1.0</td>\n",
       "      <td>0.0</td>\n",
       "      <td>Cc1cc(-n2ncc(=O)[nH]c2=O)ccc1C(=O)c1ccccc1Cl</td>\n",
       "    </tr>\n",
       "    <tr>\n",
       "      <th>1</th>\n",
       "      <td>CHEMBL6328</td>\n",
       "      <td>332.32</td>\n",
       "      <td>1.33</td>\n",
       "      <td>108.61</td>\n",
       "      <td>3.0</td>\n",
       "      <td>6.33</td>\n",
       "      <td>NaN</td>\n",
       "      <td>2.88</td>\n",
       "      <td>1.82</td>\n",
       "      <td>ACID</td>\n",
       "      <td>332.32</td>\n",
       "      <td>3.0</td>\n",
       "      <td>25.0</td>\n",
       "      <td>0.73</td>\n",
       "      <td>332.0909</td>\n",
       "      <td>7.0</td>\n",
       "      <td>1.0</td>\n",
       "      <td>0.0</td>\n",
       "      <td>Cc1cc(-n2ncc(=O)[nH]c2=O)ccc1C(=O)c1ccc(C#N)cc1</td>\n",
       "    </tr>\n",
       "    <tr>\n",
       "      <th>2</th>\n",
       "      <td>CHEMBL265667</td>\n",
       "      <td>357.80</td>\n",
       "      <td>2.27</td>\n",
       "      <td>87.98</td>\n",
       "      <td>3.0</td>\n",
       "      <td>6.33</td>\n",
       "      <td>NaN</td>\n",
       "      <td>3.70</td>\n",
       "      <td>2.64</td>\n",
       "      <td>ACID</td>\n",
       "      <td>357.80</td>\n",
       "      <td>3.0</td>\n",
       "      <td>25.0</td>\n",
       "      <td>0.75</td>\n",
       "      <td>357.0880</td>\n",
       "      <td>6.0</td>\n",
       "      <td>2.0</td>\n",
       "      <td>0.0</td>\n",
       "      <td>Cc1cc(-n2ncc(=O)[nH]c2=O)cc(C)c1C(O)c1ccc(Cl)cc1</td>\n",
       "    </tr>\n",
       "    <tr>\n",
       "      <th>3</th>\n",
       "      <td>CHEMBL6362</td>\n",
       "      <td>307.31</td>\n",
       "      <td>1.46</td>\n",
       "      <td>84.82</td>\n",
       "      <td>3.0</td>\n",
       "      <td>6.33</td>\n",
       "      <td>NaN</td>\n",
       "      <td>3.02</td>\n",
       "      <td>1.97</td>\n",
       "      <td>ACID</td>\n",
       "      <td>307.31</td>\n",
       "      <td>3.0</td>\n",
       "      <td>23.0</td>\n",
       "      <td>0.74</td>\n",
       "      <td>307.0957</td>\n",
       "      <td>6.0</td>\n",
       "      <td>1.0</td>\n",
       "      <td>0.0</td>\n",
       "      <td>Cc1ccc(C(=O)c2ccc(-n3ncc(=O)[nH]c3=O)cc2)cc1</td>\n",
       "    </tr>\n",
       "    <tr>\n",
       "      <th>4</th>\n",
       "      <td>CHEMBL267864</td>\n",
       "      <td>341.75</td>\n",
       "      <td>2.11</td>\n",
       "      <td>84.82</td>\n",
       "      <td>3.0</td>\n",
       "      <td>6.33</td>\n",
       "      <td>NaN</td>\n",
       "      <td>3.63</td>\n",
       "      <td>2.57</td>\n",
       "      <td>ACID</td>\n",
       "      <td>341.75</td>\n",
       "      <td>3.0</td>\n",
       "      <td>24.0</td>\n",
       "      <td>0.74</td>\n",
       "      <td>341.0567</td>\n",
       "      <td>6.0</td>\n",
       "      <td>1.0</td>\n",
       "      <td>0.0</td>\n",
       "      <td>Cc1cc(-n2ncc(=O)[nH]c2=O)ccc1C(=O)c1ccc(Cl)cc1</td>\n",
       "    </tr>\n",
       "    <tr>\n",
       "      <th>...</th>\n",
       "      <td>...</td>\n",
       "      <td>...</td>\n",
       "      <td>...</td>\n",
       "      <td>...</td>\n",
       "      <td>...</td>\n",
       "      <td>...</td>\n",
       "      <td>...</td>\n",
       "      <td>...</td>\n",
       "      <td>...</td>\n",
       "      <td>...</td>\n",
       "      <td>...</td>\n",
       "      <td>...</td>\n",
       "      <td>...</td>\n",
       "      <td>...</td>\n",
       "      <td>...</td>\n",
       "      <td>...</td>\n",
       "      <td>...</td>\n",
       "      <td>...</td>\n",
       "      <td>...</td>\n",
       "    </tr>\n",
       "    <tr>\n",
       "      <th>95</th>\n",
       "      <td>CHEMBL269132</td>\n",
       "      <td>631.72</td>\n",
       "      <td>3.87</td>\n",
       "      <td>134.33</td>\n",
       "      <td>13.0</td>\n",
       "      <td>NaN</td>\n",
       "      <td>NaN</td>\n",
       "      <td>2.98</td>\n",
       "      <td>2.98</td>\n",
       "      <td>NEUTRAL</td>\n",
       "      <td>631.72</td>\n",
       "      <td>2.0</td>\n",
       "      <td>45.0</td>\n",
       "      <td>0.35</td>\n",
       "      <td>631.3105</td>\n",
       "      <td>13.0</td>\n",
       "      <td>1.0</td>\n",
       "      <td>2.0</td>\n",
       "      <td>COc1cc(C(=O)N2CCN(C(=O)c3cc(OC)c(OC)c(OC)c3)C(...</td>\n",
       "    </tr>\n",
       "    <tr>\n",
       "      <th>96</th>\n",
       "      <td>CHEMBL269133</td>\n",
       "      <td>617.70</td>\n",
       "      <td>3.62</td>\n",
       "      <td>134.33</td>\n",
       "      <td>13.0</td>\n",
       "      <td>NaN</td>\n",
       "      <td>NaN</td>\n",
       "      <td>2.69</td>\n",
       "      <td>2.69</td>\n",
       "      <td>NEUTRAL</td>\n",
       "      <td>617.70</td>\n",
       "      <td>2.0</td>\n",
       "      <td>44.0</td>\n",
       "      <td>0.36</td>\n",
       "      <td>617.2948</td>\n",
       "      <td>13.0</td>\n",
       "      <td>1.0</td>\n",
       "      <td>2.0</td>\n",
       "      <td>CCCC(C)NC(=O)OCC1CN(C(=O)c2cc(OC)c(OC)c(OC)c2)...</td>\n",
       "    </tr>\n",
       "    <tr>\n",
       "      <th>97</th>\n",
       "      <td>CHEMBL6346</td>\n",
       "      <td>288.40</td>\n",
       "      <td>0.87</td>\n",
       "      <td>48.47</td>\n",
       "      <td>3.0</td>\n",
       "      <td>NaN</td>\n",
       "      <td>8.89</td>\n",
       "      <td>0.34</td>\n",
       "      <td>-1.18</td>\n",
       "      <td>BASE</td>\n",
       "      <td>288.40</td>\n",
       "      <td>1.0</td>\n",
       "      <td>21.0</td>\n",
       "      <td>0.90</td>\n",
       "      <td>288.1950</td>\n",
       "      <td>5.0</td>\n",
       "      <td>1.0</td>\n",
       "      <td>0.0</td>\n",
       "      <td>O=C(C1CCCCN1)N1CCN(Cc2cccnc2)CC1</td>\n",
       "    </tr>\n",
       "    <tr>\n",
       "      <th>98</th>\n",
       "      <td>CHEMBL414181</td>\n",
       "      <td>260.38</td>\n",
       "      <td>0.95</td>\n",
       "      <td>31.40</td>\n",
       "      <td>4.0</td>\n",
       "      <td>NaN</td>\n",
       "      <td>10.93</td>\n",
       "      <td>0.65</td>\n",
       "      <td>-2.50</td>\n",
       "      <td>BASE</td>\n",
       "      <td>260.38</td>\n",
       "      <td>1.0</td>\n",
       "      <td>19.0</td>\n",
       "      <td>0.87</td>\n",
       "      <td>260.2001</td>\n",
       "      <td>4.0</td>\n",
       "      <td>1.0</td>\n",
       "      <td>0.0</td>\n",
       "      <td>c1cncc(CN2CCN(C[C@@H]3CCCN3)CC2)c1</td>\n",
       "    </tr>\n",
       "    <tr>\n",
       "      <th>99</th>\n",
       "      <td>CHEMBL6334</td>\n",
       "      <td>260.39</td>\n",
       "      <td>0.95</td>\n",
       "      <td>31.40</td>\n",
       "      <td>4.0</td>\n",
       "      <td>NaN</td>\n",
       "      <td>10.93</td>\n",
       "      <td>0.65</td>\n",
       "      <td>-2.52</td>\n",
       "      <td>BASE</td>\n",
       "      <td>260.39</td>\n",
       "      <td>1.0</td>\n",
       "      <td>19.0</td>\n",
       "      <td>0.87</td>\n",
       "      <td>260.2001</td>\n",
       "      <td>4.0</td>\n",
       "      <td>1.0</td>\n",
       "      <td>0.0</td>\n",
       "      <td>c1cc(CN2CCN(C[C@@H]3CCCN3)CC2)ccn1</td>\n",
       "    </tr>\n",
       "  </tbody>\n",
       "</table>\n",
       "<p>100 rows x 19 columns</p>\n",
       "</div>"
      ],
      "text/plain": [
       "       chembl_id  mw_freebase  alogp     psa   rtb  cx_most_apka  \\\n",
       "0     CHEMBL6329       341.75   2.11   84.82   3.0          6.48   \n",
       "1     CHEMBL6328       332.32   1.33  108.61   3.0          6.33   \n",
       "2   CHEMBL265667       357.80   2.27   87.98   3.0          6.33   \n",
       "3     CHEMBL6362       307.31   1.46   84.82   3.0          6.33   \n",
       "4   CHEMBL267864       341.75   2.11   84.82   3.0          6.33   \n",
       "..           ...          ...    ...     ...   ...           ...   \n",
       "95  CHEMBL269132       631.72   3.87  134.33  13.0           NaN   \n",
       "96  CHEMBL269133       617.70   3.62  134.33  13.0           NaN   \n",
       "97    CHEMBL6346       288.40   0.87   48.47   3.0           NaN   \n",
       "98  CHEMBL414181       260.38   0.95   31.40   4.0           NaN   \n",
       "99    CHEMBL6334       260.39   0.95   31.40   4.0           NaN   \n",
       "\n",
       "    cx_most_bpka  cx_logp  cx_logd molecular_species  full_mwt  \\\n",
       "0            NaN     3.63     2.69              ACID    341.75   \n",
       "1            NaN     2.88     1.82              ACID    332.32   \n",
       "2            NaN     3.70     2.64              ACID    357.80   \n",
       "3            NaN     3.02     1.97              ACID    307.31   \n",
       "4            NaN     3.63     2.57              ACID    341.75   \n",
       "..           ...      ...      ...               ...       ...   \n",
       "95           NaN     2.98     2.98           NEUTRAL    631.72   \n",
       "96           NaN     2.69     2.69           NEUTRAL    617.70   \n",
       "97          8.89     0.34    -1.18              BASE    288.40   \n",
       "98         10.93     0.65    -2.50              BASE    260.38   \n",
       "99         10.93     0.65    -2.52              BASE    260.39   \n",
       "\n",
       "    aromatic_rings  heavy_atoms  qed_weighted  mw_monoisotopic  hba_lipinski  \\\n",
       "0              3.0         24.0          0.74         341.0567           6.0   \n",
       "1              3.0         25.0          0.73         332.0909           7.0   \n",
       "2              3.0         25.0          0.75         357.0880           6.0   \n",
       "3              3.0         23.0          0.74         307.0957           6.0   \n",
       "4              3.0         24.0          0.74         341.0567           6.0   \n",
       "..             ...          ...           ...              ...           ...   \n",
       "95             2.0         45.0          0.35         631.3105          13.0   \n",
       "96             2.0         44.0          0.36         617.2948          13.0   \n",
       "97             1.0         21.0          0.90         288.1950           5.0   \n",
       "98             1.0         19.0          0.87         260.2001           4.0   \n",
       "99             1.0         19.0          0.87         260.2001           4.0   \n",
       "\n",
       "    hbd_lipinski  num_lipinski_ro5_violations  \\\n",
       "0            1.0                          0.0   \n",
       "1            1.0                          0.0   \n",
       "2            2.0                          0.0   \n",
       "3            1.0                          0.0   \n",
       "4            1.0                          0.0   \n",
       "..           ...                          ...   \n",
       "95           1.0                          2.0   \n",
       "96           1.0                          2.0   \n",
       "97           1.0                          0.0   \n",
       "98           1.0                          0.0   \n",
       "99           1.0                          0.0   \n",
       "\n",
       "                                     canonical_smiles  \n",
       "0        Cc1cc(-n2ncc(=O)[nH]c2=O)ccc1C(=O)c1ccccc1Cl  \n",
       "1     Cc1cc(-n2ncc(=O)[nH]c2=O)ccc1C(=O)c1ccc(C#N)cc1  \n",
       "2    Cc1cc(-n2ncc(=O)[nH]c2=O)cc(C)c1C(O)c1ccc(Cl)cc1  \n",
       "3        Cc1ccc(C(=O)c2ccc(-n3ncc(=O)[nH]c3=O)cc2)cc1  \n",
       "4      Cc1cc(-n2ncc(=O)[nH]c2=O)ccc1C(=O)c1ccc(Cl)cc1  \n",
       "..                                                ...  \n",
       "95  COc1cc(C(=O)N2CCN(C(=O)c3cc(OC)c(OC)c(OC)c3)C(...  \n",
       "96  CCCC(C)NC(=O)OCC1CN(C(=O)c2cc(OC)c(OC)c(OC)c2)...  \n",
       "97                   O=C(C1CCCCN1)N1CCN(Cc2cccnc2)CC1  \n",
       "98                 c1cncc(CN2CCN(C[C@@H]3CCCN3)CC2)c1  \n",
       "99                 c1cc(CN2CCN(C[C@@H]3CCCN3)CC2)ccn1  \n",
       "\n",
       "[100 rows x 19 columns]"
      ]
     },
     "execution_count": 10,
     "metadata": {},
     "output_type": "execute_result"
    }
   ],
   "source": [
    "molregno_chembl_id = molregno_chembl_id.drop(labels=index_duplicates, axis=0)\n",
    "molregno_chembl_id"
   ]
  },
  {
   "cell_type": "code",
   "execution_count": 11,
   "metadata": {
    "scrolled": true
   },
   "outputs": [],
   "source": [
    "ids_com_nan = molregno_chembl_id.loc[molregno_chembl_id.isnull().any(axis=1)][['chembl_id', 'canonical_smiles']]"
   ]
  },
  {
   "cell_type": "code",
   "execution_count": 12,
   "metadata": {
    "scrolled": true
   },
   "outputs": [
    {
     "data": {
      "text/html": [
       "<div>\n",
       "<style scoped>\n",
       "    .dataframe tbody tr th:only-of-type {\n",
       "        vertical-align: middle;\n",
       "    }\n",
       "\n",
       "    .dataframe tbody tr th {\n",
       "        vertical-align: top;\n",
       "    }\n",
       "\n",
       "    .dataframe thead th {\n",
       "        text-align: right;\n",
       "    }\n",
       "</style>\n",
       "<table border=\"1\" class=\"dataframe\">\n",
       "  <thead>\n",
       "    <tr style=\"text-align: right;\">\n",
       "      <th></th>\n",
       "      <th>chembl_id</th>\n",
       "      <th>canonical_smiles</th>\n",
       "    </tr>\n",
       "  </thead>\n",
       "  <tbody>\n",
       "    <tr>\n",
       "      <th>0</th>\n",
       "      <td>CHEMBL6329</td>\n",
       "      <td>Cc1cc(-n2ncc(=O)[nH]c2=O)ccc1C(=O)c1ccccc1Cl</td>\n",
       "    </tr>\n",
       "    <tr>\n",
       "      <th>1</th>\n",
       "      <td>CHEMBL6328</td>\n",
       "      <td>Cc1cc(-n2ncc(=O)[nH]c2=O)ccc1C(=O)c1ccc(C#N)cc1</td>\n",
       "    </tr>\n",
       "    <tr>\n",
       "      <th>2</th>\n",
       "      <td>CHEMBL265667</td>\n",
       "      <td>Cc1cc(-n2ncc(=O)[nH]c2=O)cc(C)c1C(O)c1ccc(Cl)cc1</td>\n",
       "    </tr>\n",
       "    <tr>\n",
       "      <th>3</th>\n",
       "      <td>CHEMBL6362</td>\n",
       "      <td>Cc1ccc(C(=O)c2ccc(-n3ncc(=O)[nH]c3=O)cc2)cc1</td>\n",
       "    </tr>\n",
       "    <tr>\n",
       "      <th>4</th>\n",
       "      <td>CHEMBL267864</td>\n",
       "      <td>Cc1cc(-n2ncc(=O)[nH]c2=O)ccc1C(=O)c1ccc(Cl)cc1</td>\n",
       "    </tr>\n",
       "    <tr>\n",
       "      <th>...</th>\n",
       "      <td>...</td>\n",
       "      <td>...</td>\n",
       "    </tr>\n",
       "    <tr>\n",
       "      <th>95</th>\n",
       "      <td>CHEMBL269132</td>\n",
       "      <td>COc1cc(C(=O)N2CCN(C(=O)c3cc(OC)c(OC)c(OC)c3)C(...</td>\n",
       "    </tr>\n",
       "    <tr>\n",
       "      <th>96</th>\n",
       "      <td>CHEMBL269133</td>\n",
       "      <td>CCCC(C)NC(=O)OCC1CN(C(=O)c2cc(OC)c(OC)c(OC)c2)...</td>\n",
       "    </tr>\n",
       "    <tr>\n",
       "      <th>97</th>\n",
       "      <td>CHEMBL6346</td>\n",
       "      <td>O=C(C1CCCCN1)N1CCN(Cc2cccnc2)CC1</td>\n",
       "    </tr>\n",
       "    <tr>\n",
       "      <th>98</th>\n",
       "      <td>CHEMBL414181</td>\n",
       "      <td>c1cncc(CN2CCN(C[C@@H]3CCCN3)CC2)c1</td>\n",
       "    </tr>\n",
       "    <tr>\n",
       "      <th>99</th>\n",
       "      <td>CHEMBL6334</td>\n",
       "      <td>c1cc(CN2CCN(C[C@@H]3CCCN3)CC2)ccn1</td>\n",
       "    </tr>\n",
       "  </tbody>\n",
       "</table>\n",
       "<p>94 rows x 2 columns</p>\n",
       "</div>"
      ],
      "text/plain": [
       "       chembl_id                                   canonical_smiles\n",
       "0     CHEMBL6329       Cc1cc(-n2ncc(=O)[nH]c2=O)ccc1C(=O)c1ccccc1Cl\n",
       "1     CHEMBL6328    Cc1cc(-n2ncc(=O)[nH]c2=O)ccc1C(=O)c1ccc(C#N)cc1\n",
       "2   CHEMBL265667   Cc1cc(-n2ncc(=O)[nH]c2=O)cc(C)c1C(O)c1ccc(Cl)cc1\n",
       "3     CHEMBL6362       Cc1ccc(C(=O)c2ccc(-n3ncc(=O)[nH]c3=O)cc2)cc1\n",
       "4   CHEMBL267864     Cc1cc(-n2ncc(=O)[nH]c2=O)ccc1C(=O)c1ccc(Cl)cc1\n",
       "..           ...                                                ...\n",
       "95  CHEMBL269132  COc1cc(C(=O)N2CCN(C(=O)c3cc(OC)c(OC)c(OC)c3)C(...\n",
       "96  CHEMBL269133  CCCC(C)NC(=O)OCC1CN(C(=O)c2cc(OC)c(OC)c(OC)c2)...\n",
       "97    CHEMBL6346                   O=C(C1CCCCN1)N1CCN(Cc2cccnc2)CC1\n",
       "98  CHEMBL414181                 c1cncc(CN2CCN(C[C@@H]3CCCN3)CC2)c1\n",
       "99    CHEMBL6334                 c1cc(CN2CCN(C[C@@H]3CCCN3)CC2)ccn1\n",
       "\n",
       "[94 rows x 2 columns]"
      ]
     },
     "execution_count": 12,
     "metadata": {},
     "output_type": "execute_result"
    }
   ],
   "source": [
    "ids_com_nan"
   ]
  },
  {
   "cell_type": "code",
   "execution_count": 13,
   "metadata": {},
   "outputs": [
    {
     "name": "stderr",
     "output_type": "stream",
     "text": [
      "Exception in thread Thread-8:\n",
      "Traceback (most recent call last):\n",
      "Exception in thread Thread-9:\n",
      "Traceback (most recent call last):\n",
      "  File \"/home/alverad/anaconda3/envs/ml_39/lib/python3.9/threading.py\", line 973, in _bootstrap_inner\n",
      "  File \"/home/alverad/anaconda3/envs/ml_39/lib/python3.9/threading.py\", line 973, in _bootstrap_inner\n",
      "Exception in thread Thread-10:\n",
      "Traceback (most recent call last):\n",
      "  File \"/home/alverad/anaconda3/envs/ml_39/lib/python3.9/threading.py\", line 973, in _bootstrap_inner\n",
      "    self.run()\n",
      "Exception in thread Thread-11:\n",
      "Traceback (most recent call last):\n",
      "  File \"/home/alverad/anaconda3/envs/ml_39/lib/python3.9/threading.py\", line 973, in _bootstrap_inner\n",
      "    self.run()\n",
      "  File \"/home/alverad/chembl_analyser/cruzipain/../module/lipinski.py\", line 123, in run\n",
      "  File \"/home/alverad/chembl_analyser/cruzipain/../module/lipinski.py\", line 123, in run\n",
      "    self.run()\n",
      "  File \"/home/alverad/chembl_analyser/cruzipain/../module/lipinski.py\", line 123, in run\n",
      "        self.run()\n",
      "  File \"/home/alverad/chembl_analyser/cruzipain/../module/lipinski.py\", line 123, in run\n",
      "Exception in thread Thread-12:\n",
      "Traceback (most recent call last):\n",
      "  File \"/home/alverad/anaconda3/envs/ml_39/lib/python3.9/threading.py\", line 973, in _bootstrap_inner\n",
      "work = self.jobs.get(timeout=3)  # 3s timeout\n",
      "TypeError: get() got an unexpected keyword argument 'timeout'\n",
      "            self.run()\n",
      "  File \"/home/alverad/chembl_analyser/cruzipain/../module/lipinski.py\", line 123, in run\n",
      "    work = self.jobs.get(timeout=3)  # 3s timeoutwork = self.jobs.get(timeout=3)  # 3s timeout\n",
      "\n",
      "TypeError: TypeError: get() got an unexpected keyword argument 'timeout'\n",
      "work = self.jobs.get(timeout=3)  # 3s timeoutException in thread Thread-13:\n",
      "Traceback (most recent call last):\n",
      "  File \"/home/alverad/anaconda3/envs/ml_39/lib/python3.9/threading.py\", line 973, in _bootstrap_inner\n",
      "get() got an unexpected keyword argument 'timeout'    Exception in thread Thread-14:\n",
      "Traceback (most recent call last):\n",
      "  File \"/home/alverad/anaconda3/envs/ml_39/lib/python3.9/threading.py\", line 973, in _bootstrap_inner\n",
      "\n",
      "\n",
      "Exception in thread Thread-15:\n",
      "Traceback (most recent call last):\n",
      "TypeError: get() got an unexpected keyword argument 'timeout'\n",
      "    self.run()\n",
      "  File \"/home/alverad/chembl_analyser/cruzipain/../module/lipinski.py\", line 123, in run\n",
      "work = self.jobs.get(timeout=3)  # 3s timeout  File \"/home/alverad/anaconda3/envs/ml_39/lib/python3.9/threading.py\", line 973, in _bootstrap_inner\n",
      "\n",
      "TypeError: get() got an unexpected keyword argument 'timeout'\n",
      "    work = self.jobs.get(timeout=3)  # 3s timeout\n",
      "TypeError: get() got an unexpected keyword argument 'timeout'\n",
      "Exception in thread Thread-16:\n",
      "Traceback (most recent call last):\n",
      "  File \"/home/alverad/anaconda3/envs/ml_39/lib/python3.9/threading.py\", line 973, in _bootstrap_inner\n",
      "Exception in thread Thread-17:\n",
      "Traceback (most recent call last):\n",
      "  File \"/home/alverad/anaconda3/envs/ml_39/lib/python3.9/threading.py\", line 973, in _bootstrap_inner\n",
      "    self.run()\n",
      "  File \"/home/alverad/chembl_analyser/cruzipain/../module/lipinski.py\", line 123, in run\n",
      "    self.run()\n",
      "  File \"/home/alverad/chembl_analyser/cruzipain/../module/lipinski.py\", line 123, in run\n",
      "Exception in thread Thread-18:\n",
      "Traceback (most recent call last):\n",
      "  File \"/home/alverad/anaconda3/envs/ml_39/lib/python3.9/threading.py\", line 973, in _bootstrap_inner\n",
      "        work = self.jobs.get(timeout=3)  # 3s timeout\n",
      "TypeError: get() got an unexpected keyword argument 'timeout'\n",
      "Exception in thread Thread-19:\n",
      "Traceback (most recent call last):\n",
      "  File \"/home/alverad/anaconda3/envs/ml_39/lib/python3.9/threading.py\", line 973, in _bootstrap_inner\n",
      "self.run()\n",
      "  File \"/home/alverad/chembl_analyser/cruzipain/../module/lipinski.py\", line 123, in run\n",
      "    self.run()\n",
      "  File \"/home/alverad/chembl_analyser/cruzipain/../module/lipinski.py\", line 123, in run\n",
      "    self.run()\n",
      "  File \"/home/alverad/chembl_analyser/cruzipain/../module/lipinski.py\", line 123, in run\n",
      "    work = self.jobs.get(timeout=3)  # 3s timeout\n",
      "Exception in thread Thread-20:\n",
      "Traceback (most recent call last):\n",
      "  File \"/home/alverad/anaconda3/envs/ml_39/lib/python3.9/threading.py\", line 973, in _bootstrap_inner\n",
      "Exception in thread Thread-21:\n",
      "Traceback (most recent call last):\n",
      "  File \"/home/alverad/anaconda3/envs/ml_39/lib/python3.9/threading.py\", line 973, in _bootstrap_inner\n",
      "    TypeError: get() got an unexpected keyword argument 'timeout'\n",
      "work = self.jobs.get(timeout=3)  # 3s timeout\n",
      "TypeError: get() got an unexpected keyword argument 'timeout'\n",
      "    work = self.jobs.get(timeout=3)  # 3s timeout\n",
      "TypeError: get() got an unexpected keyword argument 'timeout'\n",
      "Exception in thread Thread-22:\n",
      "    Exception in thread Thread-23:\n",
      "Traceback (most recent call last):\n",
      "Traceback (most recent call last):\n",
      "  File \"/home/alverad/anaconda3/envs/ml_39/lib/python3.9/threading.py\", line 973, in _bootstrap_inner\n",
      "self.run()\n",
      "  File \"/home/alverad/chembl_analyser/cruzipain/../module/lipinski.py\", line 123, in run\n",
      "    work = self.jobs.get(timeout=3)  # 3s timeout\n",
      "TypeError: get() got an unexpected keyword argument 'timeout'\n",
      "  File \"/home/alverad/anaconda3/envs/ml_39/lib/python3.9/threading.py\", line 973, in _bootstrap_inner\n",
      "    self.run()\n",
      "  File \"/home/alverad/chembl_analyser/cruzipain/../module/lipinski.py\", line 123, in run\n",
      "Exception in thread Thread-24:\n",
      "Traceback (most recent call last):\n",
      "    self.run()\n",
      "  File \"/home/alverad/chembl_analyser/cruzipain/../module/lipinski.py\", line 123, in run\n",
      "            self.run()\n",
      "  File \"/home/alverad/chembl_analyser/cruzipain/../module/lipinski.py\", line 123, in run\n",
      "        self.run()\n",
      "  File \"/home/alverad/chembl_analyser/cruzipain/../module/lipinski.py\", line 123, in run\n",
      "      File \"/home/alverad/anaconda3/envs/ml_39/lib/python3.9/threading.py\", line 973, in _bootstrap_inner\n",
      "work = self.jobs.get(timeout=3)  # 3s timeout\n",
      "TypeError: get() got an unexpected keyword argument 'timeout'\n",
      "work = self.jobs.get(timeout=3)  # 3s timeout\n",
      "TypeError: work = self.jobs.get(timeout=3)  # 3s timeoutwork = self.jobs.get(timeout=3)  # 3s timeout\n",
      "\n",
      "TypeError: get() got an unexpected keyword argument 'timeout'\n",
      "    Exception in thread Thread-25:\n",
      "Traceback (most recent call last):\n",
      "  File \"/home/alverad/anaconda3/envs/ml_39/lib/python3.9/threading.py\", line 973, in _bootstrap_inner\n",
      "TypeErrorget() got an unexpected keyword argument 'timeout'work = self.jobs.get(timeout=3)  # 3s timeout\n",
      "TypeError: Exception in thread Thread-26:\n",
      "Traceback (most recent call last):\n",
      "  File \"/home/alverad/anaconda3/envs/ml_39/lib/python3.9/threading.py\", line 973, in _bootstrap_inner\n",
      "get() got an unexpected keyword argument 'timeout'\n",
      "\n",
      "Exception in thread Thread-27:\n",
      "Traceback (most recent call last):\n",
      "      File \"/home/alverad/anaconda3/envs/ml_39/lib/python3.9/threading.py\", line 973, in _bootstrap_inner\n",
      "self.run()\n",
      "  File \"/home/alverad/chembl_analyser/cruzipain/../module/lipinski.py\", line 123, in run\n",
      ": get() got an unexpected keyword argument 'timeout'\n",
      "    self.run()\n",
      "  File \"/home/alverad/chembl_analyser/cruzipain/../module/lipinski.py\", line 123, in run\n",
      "    work = self.jobs.get(timeout=3)  # 3s timeout\n",
      "TypeError: get() got an unexpected keyword argument 'timeout'\n",
      "    self.run()\n",
      "  File \"/home/alverad/chembl_analyser/cruzipain/../module/lipinski.py\", line 123, in run\n",
      "        self.run()work = self.jobs.get(timeout=3)  # 3s timeout\n",
      "TypeError: get() got an unexpected keyword argument 'timeout'\n",
      "\n",
      "  File \"/home/alverad/chembl_analyser/cruzipain/../module/lipinski.py\", line 123, in run\n",
      "        work = self.jobs.get(timeout=3)  # 3s timeoutwork = self.jobs.get(timeout=3)  # 3s timeout\n",
      "\n",
      "TypeError: get() got an unexpected keyword argument 'timeout'\n",
      "TypeError: get() got an unexpected keyword argument 'timeout'\n"
     ]
    }
   ],
   "source": [
    "atualiza_data_frame_com_lipinski(molregno_chembl_id, ids_com_nan, 20)"
   ]
  },
  {
   "cell_type": "code",
   "execution_count": null,
   "metadata": {},
   "outputs": [],
   "source": [
    "#or chemb, smiles in zip(ids_com_nan.chembl_id, ids_com_nan.canonical_smiles):\n",
    " #   propriedades = verifica_lipinsky(smiles)\n",
    " ##   for key in propriedades.keys():\n",
    "  #      molregno_chembl_id.loc[molregno_chembl_id.chembl_id == chemb, key] = propriedades[key]"
   ]
  },
  {
   "cell_type": "code",
   "execution_count": null,
   "metadata": {},
   "outputs": [],
   "source": [
    "molregno_chembl_id"
   ]
  },
  {
   "cell_type": "code",
   "execution_count": null,
   "metadata": {},
   "outputs": [],
   "source": [
    "molregno_chembl_id.loc[(molregno_chembl_id.isnull().any(axis=1))]"
   ]
  },
  {
   "cell_type": "code",
   "execution_count": null,
   "metadata": {},
   "outputs": [],
   "source": [
    "molregno_chembl_id"
   ]
  },
  {
   "cell_type": "code",
   "execution_count": null,
   "metadata": {},
   "outputs": [],
   "source": [
    "molregno_chembl_id.query(\"molregno in @ids_com_nan\")"
   ]
  },
  {
   "cell_type": "code",
   "execution_count": null,
   "metadata": {},
   "outputs": [],
   "source": [
    "molregno_chembl_id.query(\"num_ro5_violations != num_lipinski_ro5_violations\")"
   ]
  },
  {
   "cell_type": "code",
   "execution_count": null,
   "metadata": {},
   "outputs": [],
   "source": [
    "cruzain_id = pd.read_csv('data/cruzain_id_chemb.csv')"
   ]
  },
  {
   "cell_type": "code",
   "execution_count": null,
   "metadata": {},
   "outputs": [],
   "source": [
    "cruzain_id"
   ]
  },
  {
   "cell_type": "code",
   "execution_count": null,
   "metadata": {},
   "outputs": [],
   "source": [
    "cruzain_id = cruzain_id[\"Molecule ChEMBL ID\"]\n",
    "cruzain_id"
   ]
  },
  {
   "cell_type": "code",
   "execution_count": null,
   "metadata": {},
   "outputs": [],
   "source": [
    "molregno_chembl_id = molregno_chembl_id.query(\"chembl_id in @cruzain_id\")"
   ]
  },
  {
   "cell_type": "code",
   "execution_count": null,
   "metadata": {},
   "outputs": [],
   "source": [
    "molregno_chembl_id.head()"
   ]
  },
  {
   "cell_type": "code",
   "execution_count": null,
   "metadata": {},
   "outputs": [],
   "source": [
    "pd.set_option('display.max_columns', None)"
   ]
  },
  {
   "cell_type": "code",
   "execution_count": null,
   "metadata": {},
   "outputs": [],
   "source": [
    "molregno_chembl_id.num_lipinski_ro5_violations.unique()"
   ]
  },
  {
   "cell_type": "code",
   "execution_count": null,
   "metadata": {},
   "outputs": [],
   "source": [
    "molregno_chembl_id.num_ro5_violations.unique()"
   ]
  },
  {
   "cell_type": "code",
   "execution_count": null,
   "metadata": {},
   "outputs": [],
   "source": [
    "molregno_chembl_id[molregno_chembl_id.num_lipinski_ro5_violations == molregno_chembl_id.num_ro5_violations]"
   ]
  },
  {
   "cell_type": "code",
   "execution_count": null,
   "metadata": {},
   "outputs": [],
   "source": [
    "molregno_chembl_id['ro3_pass'] = molregno_chembl_id['ro3_pass'].replace({\"Y\": 'True', \"N\": 'False'})"
   ]
  },
  {
   "cell_type": "code",
   "execution_count": null,
   "metadata": {},
   "outputs": [],
   "source": [
    "molregno_chembl_id.query(\"num_lipinski_ro5_violations == 0\")"
   ]
  },
  {
   "cell_type": "code",
   "execution_count": null,
   "metadata": {},
   "outputs": [],
   "source": [
    "molregno_chembl_id.query(\"num_lipinski_ro5_violations == 0 & ro3_pass == 'True'\")"
   ]
  },
  {
   "cell_type": "code",
   "execution_count": null,
   "metadata": {},
   "outputs": [],
   "source": [
    "prep_clust = pd.get_dummies(molregno_chembl_id.query(\"num_lipinski_ro5_violations == 0\"), columns=[\"molecular_species\"])\n",
    "tab_usada = prep_clust\n",
    "prep_clust = prep_clust.drop(['chembl_id','molregno', \"full_molformula\", \"canonical_smiles\"], axis=1)\n"
   ]
  },
  {
   "cell_type": "code",
   "execution_count": null,
   "metadata": {},
   "outputs": [],
   "source": [
    "prep_clust.head()"
   ]
  },
  {
   "cell_type": "code",
   "execution_count": null,
   "metadata": {},
   "outputs": [],
   "source": [
    "prep_clust = prep_clust.replace({np.nan: \"7\"})\n",
    "prep_clust.head()"
   ]
  },
  {
   "cell_type": "code",
   "execution_count": null,
   "metadata": {},
   "outputs": [],
   "source": [
    "x = preprocessing.normalize(prep_clust, norm='l1')\n",
    "cluster = KMeans(n_clusters=3, random_state=5)\n",
    "cluster.fit(x).labels_"
   ]
  },
  {
   "cell_type": "code",
   "execution_count": null,
   "metadata": {},
   "outputs": [],
   "source": [
    "plt.figure(figsize=(10,7))\n",
    "plt.scatter(x=prep_clust[['mw_freebase']], y=prep_clust.psa, c=cluster.fit(x).labels_, s=50)\n",
    "plt.xlabel('mw_freebase', fontsize=18)\n",
    "plt.ylabel('psa', fontsize=18)\n",
    "plt.show()"
   ]
  },
  {
   "cell_type": "code",
   "execution_count": null,
   "metadata": {},
   "outputs": [],
   "source": [
    "tab_usada['grupos_cluster_knn'] = cluster.fit(x).labels_\n",
    "tab_usada.drop([\"num_ro5_violations\", \"ro3_pass\", \"num_lipinski_ro5_violations\"], axis=1).sort_values(by='grupos_cluster_knn')"
   ]
  },
  {
   "cell_type": "code",
   "execution_count": null,
   "metadata": {},
   "outputs": [],
   "source": [
    "sns.pairplot(tab_usada[['mw_freebase', 'psa', 'grupos_cluster_knn']], hue='grupos_cluster_knn')\n"
   ]
  },
  {
   "cell_type": "code",
   "execution_count": null,
   "metadata": {},
   "outputs": [],
   "source": []
  }
 ],
 "metadata": {
  "kernelspec": {
   "display_name": "Python 3 (ipykernel)",
   "language": "python",
   "name": "python3"
  },
  "language_info": {
   "codemirror_mode": {
    "name": "ipython",
    "version": 3
   },
   "file_extension": ".py",
   "mimetype": "text/x-python",
   "name": "python",
   "nbconvert_exporter": "python",
   "pygments_lexer": "ipython3",
   "version": "3.9.10"
  }
 },
 "nbformat": 4,
 "nbformat_minor": 2
}
