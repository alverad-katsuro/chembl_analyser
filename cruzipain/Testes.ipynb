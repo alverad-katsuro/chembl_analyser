{
 "cells": [
  {
   "cell_type": "code",
   "execution_count": 1,
   "id": "09cd9511-c100-40a1-9382-97ddd12e0c0f",
   "metadata": {},
   "outputs": [],
   "source": [
    "import numpy as np"
   ]
  },
  {
   "cell_type": "code",
   "execution_count": 2,
   "id": "7c1641bb-dd7d-457b-b303-afbd60d9fe7d",
   "metadata": {},
   "outputs": [],
   "source": [
    "import rdkit\n",
    "import rdkit.Chem.Descriptors\n",
    "import rdkit.Chem.rdMolDescriptors"
   ]
  },
  {
   "cell_type": "code",
   "execution_count": 3,
   "id": "ca286848-0085-4255-9bb5-abf2b7230764",
   "metadata": {},
   "outputs": [],
   "source": [
    "from rdkit.Chem import Draw\n",
    "from rdkit import Chem\n",
    "from rdkit import Chem\n",
    "from rdkit.Chem import AllChem\n",
    "from rdkit.Chem.Draw import IPythonConsole"
   ]
  },
  {
   "cell_type": "code",
   "execution_count": 4,
   "id": "71ed771d-6847-43c9-98ee-08db495d8d4f",
   "metadata": {},
   "outputs": [],
   "source": [
    "IPythonConsole.molSize = 500,500\n",
    "IPythonConsole.drawOptions.useBWAtomPalette()\n",
    "IPythonConsole.drawOptions.minFontSize=15\n",
    "IPythonConsole.drawOptions.bondLineWidth=2"
   ]
  },
  {
   "cell_type": "code",
   "execution_count": 5,
   "id": "68ec0a91-6193-43bd-b683-d10cf8ec7523",
   "metadata": {},
   "outputs": [
    {
     "data": {
      "image/png": "[encoded data removed]",
      "text/plain": [
       "<rdkit.Chem.rdchem.Mol at 0x7fa5c1e0f2e0>"
      ]
     },
     "execution_count": 5,
     "metadata": {},
     "output_type": "execute_result"
    }
   ],
   "source": [
    "k777 = Chem.MolFromSmiles(\"CN1CCN(C(=O)N[C@@H](Cc2ccccc2)C(=O)N[C@H](/C=C/S(=O)(=O)c2ccccc2)CCc2ccccc2)CC1\")\n",
    "k777"
   ]
  },
  {
   "cell_type": "code",
   "execution_count": 7,
   "id": "710e3076-e429-4845-86ee-92cb112e086a",
   "metadata": {},
   "outputs": [],
   "source": [
    "teste = AllChem.EmbedMultipleConfs(k777,10)"
   ]
  },
  {
   "cell_type": "code",
   "execution_count": 12,
   "id": "182795ad-c23e-418f-be3e-a852d3aa110e",
   "metadata": {},
   "outputs": [
    {
     "data": {
      "text/plain": [
       "rdkit.rdBase._vecti"
      ]
     },
     "execution_count": 12,
     "metadata": {},
     "output_type": "execute_result"
    }
   ],
   "source": []
  },
  {
   "cell_type": "code",
   "execution_count": 9,
   "id": "e5199e00-c7b7-4953-ac35-75f99dfa6986",
   "metadata": {},
   "outputs": [
    {
     "data": {
      "text/plain": [
       "574.261376696"
      ]
     },
     "execution_count": 9,
     "metadata": {},
     "output_type": "execute_result"
    }
   ],
   "source": [
    "rdkit.Chem.Descriptors.ExactMolWt(k777)"
   ]
  },
  {
   "cell_type": "code",
   "execution_count": 10,
   "id": "7a225c37-0e8a-4784-be26-7eecce6178df",
   "metadata": {},
   "outputs": [
    {
     "data": {
      "text/plain": [
       "0.8048780487804879"
      ]
     },
     "execution_count": 10,
     "metadata": {},
     "output_type": "execute_result"
    }
   ],
   "source": [
    "rdkit.Chem.Descriptors.FpDensityMorgan1(k777)"
   ]
  },
  {
   "cell_type": "code",
   "execution_count": 11,
   "id": "b48bc954-c3e4-411c-bb90-9cb69619beea",
   "metadata": {},
   "outputs": [
    {
     "data": {
      "text/plain": [
       "1.3658536585365855"
      ]
     },
     "execution_count": 11,
     "metadata": {},
     "output_type": "execute_result"
    }
   ],
   "source": [
    "rdkit.Chem.Descriptors.FpDensityMorgan2(k777)"
   ]
  },
  {
   "cell_type": "code",
   "execution_count": 12,
   "id": "2f8ac305-45a8-48ca-a70c-987587d5c0d1",
   "metadata": {},
   "outputs": [
    {
     "data": {
      "text/plain": [
       "1.975609756097561"
      ]
     },
     "execution_count": 12,
     "metadata": {},
     "output_type": "execute_result"
    }
   ],
   "source": [
    "rdkit.Chem.Descriptors.FpDensityMorgan3(k777)"
   ]
  },
  {
   "cell_type": "code",
   "execution_count": 13,
   "id": "ce1a0b13-9c92-45b3-876e-570f350fc51b",
   "metadata": {},
   "outputs": [
    {
     "data": {
      "text/plain": [
       "536.4430000000003"
      ]
     },
     "execution_count": 13,
     "metadata": {},
     "output_type": "execute_result"
    }
   ],
   "source": [
    "rdkit.Chem.Descriptors.HeavyAtomMolWt(k777)"
   ]
  },
  {
   "cell_type": "code",
   "execution_count": 40,
   "id": "df9b67be-70aa-473a-99d1-53929380f05d",
   "metadata": {},
   "outputs": [],
   "source": [
    "descriptor_names = list(rdkit.Chem.rdMolDescriptors.Properties.GetAvailableProperties())\n",
    "\n",
    "get_descriptors = rdkit.Chem.rdMolDescriptors.Properties(descriptor_names)"
   ]
  },
  {
   "cell_type": "code",
   "execution_count": 31,
   "id": "22323704-7797-44c6-8752-ac38f260ba34",
   "metadata": {},
   "outputs": [
    {
     "data": {
      "text/plain": [
       "array([5.74261377e+02, 8.00000000e+00, 2.00000000e+00, 1.10000000e+01,\n",
       "       2.00000000e+00, 5.00000000e+00, 9.00000000e+00, 3.00000000e+00,\n",
       "       3.12500000e-01, 4.00000000e+00, 3.00000000e+00, 1.00000000e+00,\n",
       "       1.00000000e+00, 1.00000000e+00, 0.00000000e+00, 1.00000000e+00,\n",
       "       1.00000000e+00, 0.00000000e+00, 0.00000000e+00, 2.00000000e+00,\n",
       "       0.00000000e+00, 2.42527181e+02, 9.88200000e+01, 3.65990000e+00,\n",
       "       1.60997200e+02])"
      ]
     },
     "execution_count": 31,
     "metadata": {},
     "output_type": "execute_result"
    }
   ],
   "source": [
    "np.array(get_descriptors.ComputeProperties(k777))"
   ]
  },
  {
   "cell_type": "code",
   "execution_count": 46,
   "id": "7d60d922-4444-4c05-93f7-47b8fe2d792b",
   "metadata": {},
   "outputs": [],
   "source": [
    "from rdkit.Chem import Descriptors3D"
   ]
  },
  {
   "cell_type": "code",
   "execution_count": 50,
   "id": "8e3892bf-373d-4758-9fa5-9476c055271a",
   "metadata": {},
   "outputs": [
    {
     "ename": "RuntimeError",
     "evalue": "Pre-condition Violation\n\tmolecule has no conformers\n\tViolation occurred on line 165 in file Code/GraphMol/Descriptors/PMI.cpp\n\tFailed Expression: mol.getNumConformers() >= 1\n\tRDKIT: 2020.09.5\n\tBOOST: 1_74\n",
     "output_type": "error",
     "traceback": [
      "\u001b[0;31m---------------------------------------------------------------------------\u001b[0m",
      "\u001b[0;31mRuntimeError\u001b[0m                              Traceback (most recent call last)",
      "Input \u001b[0;32mIn [50]\u001b[0m, in \u001b[0;36m<module>\u001b[0;34m\u001b[0m\n\u001b[0;32m----> 1\u001b[0m \u001b[43mDescriptors3D\u001b[49m\u001b[38;5;241;43m.\u001b[39;49m\u001b[43mRadiusOfGyration\u001b[49m\u001b[43m(\u001b[49m\u001b[43mk777\u001b[49m\u001b[43m)\u001b[49m\n",
      "File \u001b[0;32m~/anaconda3/envs/ml_39/lib/python3.9/site-packages/rdkit/Chem/Descriptors3D.py:97\u001b[0m, in \u001b[0;36m<lambda>\u001b[0;34m(*x, **y)\u001b[0m\n\u001b[1;32m     80\u001b[0m NPR2\u001b[38;5;241m.\u001b[39mversion \u001b[38;5;241m=\u001b[39m rdMolDescriptors\u001b[38;5;241m.\u001b[39m_CalcNPR2_version\n\u001b[1;32m     81\u001b[0m NPR2\u001b[38;5;241m.\u001b[39m\u001b[38;5;18m__doc__\u001b[39m \u001b[38;5;241m=\u001b[39m \u001b[38;5;124m\"\"\"\u001b[39m\u001b[38;5;124m Normalized principal moments ratio 2 (=I2/I3)\u001b[39m\n\u001b[1;32m     82\u001b[0m \n\u001b[1;32m     83\u001b[0m \u001b[38;5;124m      from Sauer and Schwarz JCIM 43:987-1003 (2003)\u001b[39m\n\u001b[0;32m   (...)\u001b[0m\n\u001b[1;32m     94\u001b[0m \u001b[38;5;124m      calculation. Defaults to True\u001b[39m\n\u001b[1;32m     95\u001b[0m \u001b[38;5;124m  \u001b[39m\u001b[38;5;124m\"\"\"\u001b[39m\n\u001b[0;32m---> 97\u001b[0m RadiusOfGyration \u001b[38;5;241m=\u001b[39m \u001b[38;5;28;01mlambda\u001b[39;00m \u001b[38;5;241m*\u001b[39mx, \u001b[38;5;241m*\u001b[39m\u001b[38;5;241m*\u001b[39my: \u001b[43mrdMolDescriptors\u001b[49m\u001b[38;5;241;43m.\u001b[39;49m\u001b[43mCalcRadiusOfGyration\u001b[49m\u001b[43m(\u001b[49m\u001b[38;5;241;43m*\u001b[39;49m\u001b[43mx\u001b[49m\u001b[43m,\u001b[49m\u001b[43m \u001b[49m\u001b[38;5;241;43m*\u001b[39;49m\u001b[38;5;241;43m*\u001b[39;49m\u001b[43my\u001b[49m\u001b[43m)\u001b[49m\n\u001b[1;32m     98\u001b[0m RadiusOfGyration\u001b[38;5;241m.\u001b[39mversion \u001b[38;5;241m=\u001b[39m rdMolDescriptors\u001b[38;5;241m.\u001b[39m_CalcRadiusOfGyration_version\n\u001b[1;32m     99\u001b[0m RadiusOfGyration\u001b[38;5;241m.\u001b[39m\u001b[38;5;18m__doc__\u001b[39m \u001b[38;5;241m=\u001b[39m \u001b[38;5;124m\"\"\"\u001b[39m\u001b[38;5;124m Radius of gyration\u001b[39m\n\u001b[1;32m    100\u001b[0m \n\u001b[1;32m    101\u001b[0m \u001b[38;5;124m     from Todeschini and Consoni \u001b[39m\u001b[38;5;124m\"\u001b[39m\u001b[38;5;124mDescriptors from Molecular Geometry\u001b[39m\u001b[38;5;124m\"\u001b[39m\n\u001b[0;32m   (...)\u001b[0m\n\u001b[1;32m    116\u001b[0m \u001b[38;5;124m      calculation. Defaults to True\u001b[39m\n\u001b[1;32m    117\u001b[0m \u001b[38;5;124m  \u001b[39m\u001b[38;5;124m\"\"\"\u001b[39m\n",
      "\u001b[0;31mRuntimeError\u001b[0m: Pre-condition Violation\n\tmolecule has no conformers\n\tViolation occurred on line 165 in file Code/GraphMol/Descriptors/PMI.cpp\n\tFailed Expression: mol.getNumConformers() >= 1\n\tRDKIT: 2020.09.5\n\tBOOST: 1_74\n"
     ]
    }
   ],
   "source": [
    "Descriptors3D.RadiusOfGyration(k777)"
   ]
  }
 ],
 "metadata": {
  "kernelspec": {
   "display_name": "Python_3.9.10",
   "language": "python",
   "name": "python_3.9.10"
  },
  "language_info": {
   "codemirror_mode": {
    "name": "ipython",
    "version": 3
   },
   "file_extension": ".py",
   "mimetype": "text/x-python",
   "name": "python",
   "nbconvert_exporter": "python",
   "pygments_lexer": "ipython3",
   "version": "3.9.7"
  }
 },
 "nbformat": 4,
 "nbformat_minor": 5
}
