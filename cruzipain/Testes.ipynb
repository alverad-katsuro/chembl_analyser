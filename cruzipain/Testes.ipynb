{
 "cells": [
  {
   "cell_type": "code",
   "execution_count": 1,
   "id": "954b92b6",
   "metadata": {},
   "outputs": [],
   "source": [
    "import pandas as pd\n",
    "import sqlite3"
   ]
  },
  {
   "cell_type": "code",
   "execution_count": 2,
   "id": "3dfcab41",
   "metadata": {},
   "outputs": [],
   "source": [
    "con = sqlite3.connect('../data/chembl_29.db')"
   ]
  },
  {
   "cell_type": "code",
   "execution_count": null,
   "id": "a69ce583",
   "metadata": {},
   "outputs": [],
   "source": [
    "data = pd.read_sql_query()"
   ]
  },
  {
   "cell_type": "code",
   "execution_count": null,
   "id": "b587caa8",
   "metadata": {},
   "outputs": [],
   "source": []
  },
  {
   "cell_type": "code",
   "execution_count": 68,
   "id": "4bfd35ee",
   "metadata": {},
   "outputs": [],
   "source": [
    "from rdkit import Chem\n",
    "# To add a new cell, type '# %%'\n",
    "# To add a new markdown cell, type '# %% [markdown]'\n",
    "# %%\n",
    "import pandas as pd\n",
    "import sqlite3\n",
    "import seaborn as sns\n",
    "from matplotlib import pyplot as plt\n",
    "from sklearn.cluster import KMeans\n",
    "from sklearn import preprocessing\n",
    "import numpy as np\n",
    "from matplotlib import pyplot as ptl\n",
    "import seaborn as sns\n",
    "import sys, os\n",
    "from rdkit import Chem\n",
    "from rdkit.Chem import Crippen\n",
    "from rdkit.Chem import Lipinski\n",
    "from rdkit.Chem import Descriptors\n",
    "from rdkit.Chem.QED import properties\n",
    "\n",
    "import subprocess\n",
    "import threading\n",
    "import queue\n",
    "import os\n",
    "sys.path.append(\"../module/\")\n",
    "from lipinski import *"
   ]
  },
  {
   "cell_type": "code",
   "execution_count": 2,
   "id": "8f41565b",
   "metadata": {},
   "outputs": [],
   "source": [
    "smiles = 'Cc1cc(-n2ncc(=O)[nH]c2=O)ccc1C(=O)c1ccc(C#N)cc1'"
   ]
  },
  {
   "cell_type": "code",
   "execution_count": 3,
   "id": "8453a552",
   "metadata": {
    "scrolled": true
   },
   "outputs": [
    {
     "data": {
      "image/png": "[encoded data removed]",
      "text/plain": [
       "<rdkit.Chem.rdchem.Mol at 0x7f87cccb1dc0>"
      ]
     },
     "execution_count": 3,
     "metadata": {},
     "output_type": "execute_result"
    }
   ],
   "source": [
    "Chem.MolFromSmiles(smiles)"
   ]
  },
  {
   "cell_type": "code",
   "execution_count": 67,
   "id": "003ed74b",
   "metadata": {},
   "outputs": [
    {
     "data": {
      "text/plain": [
       "24150"
      ]
     },
     "execution_count": 67,
     "metadata": {},
     "output_type": "execute_result"
    }
   ],
   "source": [
    "size = 0\n",
    "for k in range(14):\n",
    "    con = sqlite3.connect(f\"../data/dados_att/dados_atualizados_{k}.db\")\n",
    "    dataframe = pd.read_sql('select * from dados', con)\n",
    "    size += len(dataframe)\n",
    "size"
   ]
  },
  {
   "cell_type": "code",
   "execution_count": 59,
   "id": "08fd1201",
   "metadata": {},
   "outputs": [],
   "source": [
    "con = sqlite3.connect('../data/dados_att/dados_atualizados_14.db')\n",
    "con2 = sqlite3.connect('../data/dados_att/dados_atualizados_1.db')"
   ]
  },
  {
   "cell_type": "code",
   "execution_count": 60,
   "id": "919505bf",
   "metadata": {
    "scrolled": true
   },
   "outputs": [],
   "source": [
    "dataframe = pd.read_sql('select * from dados', con)\n",
    "#dataframe = pd.read_csv('inibidores_encontrados.csv')"
   ]
  },
  {
   "cell_type": "code",
   "execution_count": 61,
   "id": "057d146c",
   "metadata": {},
   "outputs": [],
   "source": [
    "dat = pd.read_sql('select * from dados', con2)"
   ]
  },
  {
   "cell_type": "code",
   "execution_count": 62,
   "id": "0554da86",
   "metadata": {},
   "outputs": [
    {
     "data": {
      "text/html": [
       "<div>\n",
       "<style scoped>\n",
       "    .dataframe tbody tr th:only-of-type {\n",
       "        vertical-align: middle;\n",
       "    }\n",
       "\n",
       "    .dataframe tbody tr th {\n",
       "        vertical-align: top;\n",
       "    }\n",
       "\n",
       "    .dataframe thead th {\n",
       "        text-align: right;\n",
       "    }\n",
       "</style>\n",
       "<table border=\"1\" class=\"dataframe\">\n",
       "  <thead>\n",
       "    <tr style=\"text-align: right;\">\n",
       "      <th></th>\n",
       "      <th>chembl_id</th>\n",
       "      <th>mw_freebase</th>\n",
       "      <th>alogp</th>\n",
       "      <th>psa</th>\n",
       "      <th>rtb</th>\n",
       "      <th>cx_most_apka</th>\n",
       "      <th>cx_most_bpka</th>\n",
       "      <th>cx_logp</th>\n",
       "      <th>cx_logd</th>\n",
       "      <th>molecular_species</th>\n",
       "      <th>full_mwt</th>\n",
       "      <th>aromatic_rings</th>\n",
       "      <th>heavy_atoms</th>\n",
       "      <th>qed_weighted</th>\n",
       "      <th>mw_monoisotopic</th>\n",
       "      <th>hba_lipinski</th>\n",
       "      <th>hbd_lipinski</th>\n",
       "      <th>num_lipinski_ro5_violations</th>\n",
       "      <th>canonical_smiles</th>\n",
       "    </tr>\n",
       "  </thead>\n",
       "  <tbody>\n",
       "  </tbody>\n",
       "</table>\n",
       "</div>"
      ],
      "text/plain": [
       "Empty DataFrame\n",
       "Columns: [chembl_id, mw_freebase, alogp, psa, rtb, cx_most_apka, cx_most_bpka, cx_logp, cx_logd, molecular_species, full_mwt, aromatic_rings, heavy_atoms, qed_weighted, mw_monoisotopic, hba_lipinski, hbd_lipinski, num_lipinski_ro5_violations, canonical_smiles]\n",
       "Index: []"
      ]
     },
     "execution_count": 62,
     "metadata": {},
     "output_type": "execute_result"
    }
   ],
   "source": [
    "dataframe"
   ]
  },
  {
   "cell_type": "code",
   "execution_count": null,
   "id": "3e3a561d",
   "metadata": {},
   "outputs": [],
   "source": [
    "dat"
   ]
  },
  {
   "cell_type": "code",
   "execution_count": 18,
   "id": "ab548ae9",
   "metadata": {},
   "outputs": [],
   "source": [
    "b = dataframe.copy()"
   ]
  },
  {
   "cell_type": "code",
   "execution_count": 24,
   "id": "9f538d19",
   "metadata": {},
   "outputs": [
    {
     "data": {
      "text/plain": [
       "False"
      ]
     },
     "execution_count": 24,
     "metadata": {},
     "output_type": "execute_result"
    }
   ],
   "source": [
    "id(dataframe.chembl_id) == id(b.chembl_id)"
   ]
  },
  {
   "cell_type": "code",
   "execution_count": 10,
   "id": "322960e0",
   "metadata": {},
   "outputs": [
    {
     "data": {
      "text/html": [
       "<div>\n",
       "<style scoped>\n",
       "    .dataframe tbody tr th:only-of-type {\n",
       "        vertical-align: middle;\n",
       "    }\n",
       "\n",
       "    .dataframe tbody tr th {\n",
       "        vertical-align: top;\n",
       "    }\n",
       "\n",
       "    .dataframe thead th {\n",
       "        text-align: right;\n",
       "    }\n",
       "</style>\n",
       "<table border=\"1\" class=\"dataframe\">\n",
       "  <thead>\n",
       "    <tr style=\"text-align: right;\">\n",
       "      <th></th>\n",
       "      <th>Unnamed: 0</th>\n",
       "      <th>molregno</th>\n",
       "      <th>chembl_id</th>\n",
       "      <th>mw_freebase</th>\n",
       "      <th>alogp</th>\n",
       "      <th>hba</th>\n",
       "      <th>hbd</th>\n",
       "      <th>psa</th>\n",
       "      <th>rtb</th>\n",
       "      <th>cx_most_apka</th>\n",
       "      <th>...</th>\n",
       "      <th>qed_weighted</th>\n",
       "      <th>mw_monoisotopic</th>\n",
       "      <th>full_molformula</th>\n",
       "      <th>hba_lipinski</th>\n",
       "      <th>hbd_lipinski</th>\n",
       "      <th>molecular_species_ACID</th>\n",
       "      <th>molecular_species_BASE</th>\n",
       "      <th>molecular_species_NEUTRAL</th>\n",
       "      <th>grupos</th>\n",
       "      <th>grupos_cluster_knn</th>\n",
       "    </tr>\n",
       "  </thead>\n",
       "  <tbody>\n",
       "    <tr>\n",
       "      <th>0</th>\n",
       "      <td>7</td>\n",
       "      <td>43896</td>\n",
       "      <td>CHEMBL31000</td>\n",
       "      <td>222.68</td>\n",
       "      <td>2.29</td>\n",
       "      <td>3.0</td>\n",
       "      <td>2.0</td>\n",
       "      <td>45.15</td>\n",
       "      <td>3.0</td>\n",
       "      <td>NaN</td>\n",
       "      <td>...</td>\n",
       "      <td>0.84</td>\n",
       "      <td>222.056</td>\n",
       "      <td>C11H11ClN2O</td>\n",
       "      <td>3.0</td>\n",
       "      <td>2.0</td>\n",
       "      <td>0</td>\n",
       "      <td>0</td>\n",
       "      <td>1</td>\n",
       "      <td>0</td>\n",
       "      <td>0</td>\n",
       "    </tr>\n",
       "  </tbody>\n",
       "</table>\n",
       "<p>1 rows × 26 columns</p>\n",
       "</div>"
      ],
      "text/plain": [
       "   Unnamed: 0  molregno    chembl_id  mw_freebase  alogp  hba  hbd    psa  \\\n",
       "0           7     43896  CHEMBL31000       222.68   2.29  3.0  2.0  45.15   \n",
       "\n",
       "   rtb  cx_most_apka  ...  qed_weighted  mw_monoisotopic  full_molformula  \\\n",
       "0  3.0           NaN  ...          0.84          222.056      C11H11ClN2O   \n",
       "\n",
       "   hba_lipinski  hbd_lipinski  molecular_species_ACID  molecular_species_BASE  \\\n",
       "0           3.0           2.0                       0                       0   \n",
       "\n",
       "   molecular_species_NEUTRAL grupos  grupos_cluster_knn  \n",
       "0                          1      0                   0  \n",
       "\n",
       "[1 rows x 26 columns]"
      ]
     },
     "execution_count": 10,
     "metadata": {},
     "output_type": "execute_result"
    }
   ],
   "source": [
    "b.loc[b.chembl_id == \"CHEMBL31000\"]"
   ]
  },
  {
   "cell_type": "code",
   "execution_count": 6,
   "id": "1282dcde",
   "metadata": {},
   "outputs": [],
   "source": [
    "dataframe = dataframe.drop(['cx_most_apka', 'cx_most_bpka', 'molecular_species', 'cx_logp', 'cx_logd', 'heavy_atoms', 'qed_weighted'], axis=1)"
   ]
  },
  {
   "cell_type": "code",
   "execution_count": 7,
   "id": "82ecb6cc",
   "metadata": {},
   "outputs": [
    {
     "data": {
      "text/html": [
       "<div>\n",
       "<style scoped>\n",
       "    .dataframe tbody tr th:only-of-type {\n",
       "        vertical-align: middle;\n",
       "    }\n",
       "\n",
       "    .dataframe tbody tr th {\n",
       "        vertical-align: top;\n",
       "    }\n",
       "\n",
       "    .dataframe thead th {\n",
       "        text-align: right;\n",
       "    }\n",
       "</style>\n",
       "<table border=\"1\" class=\"dataframe\">\n",
       "  <thead>\n",
       "    <tr style=\"text-align: right;\">\n",
       "      <th></th>\n",
       "      <th>chembl_id</th>\n",
       "      <th>mw_freebase</th>\n",
       "      <th>alogp</th>\n",
       "      <th>psa</th>\n",
       "      <th>rtb</th>\n",
       "      <th>full_mwt</th>\n",
       "      <th>aromatic_rings</th>\n",
       "      <th>mw_monoisotopic</th>\n",
       "      <th>hba_lipinski</th>\n",
       "      <th>hbd_lipinski</th>\n",
       "      <th>num_lipinski_ro5_violations</th>\n",
       "      <th>canonical_smiles</th>\n",
       "    </tr>\n",
       "  </thead>\n",
       "  <tbody>\n",
       "    <tr>\n",
       "      <th>121</th>\n",
       "      <td>CHEMBL383864</td>\n",
       "      <td>1081.39</td>\n",
       "      <td>NaN</td>\n",
       "      <td>NaN</td>\n",
       "      <td>NaN</td>\n",
       "      <td>1081.39</td>\n",
       "      <td>NaN</td>\n",
       "      <td>1080.6498</td>\n",
       "      <td>NaN</td>\n",
       "      <td>NaN</td>\n",
       "      <td>NaN</td>\n",
       "      <td>COCCc1ccc(OCC(O)CN(CC(O)COc2ccc(CCOC)cc2)C(C)C...</td>\n",
       "    </tr>\n",
       "    <tr>\n",
       "      <th>212</th>\n",
       "      <td>CHEMBL266306</td>\n",
       "      <td>1574.97</td>\n",
       "      <td>NaN</td>\n",
       "      <td>NaN</td>\n",
       "      <td>NaN</td>\n",
       "      <td>1574.97</td>\n",
       "      <td>NaN</td>\n",
       "      <td>1573.7792</td>\n",
       "      <td>NaN</td>\n",
       "      <td>NaN</td>\n",
       "      <td>NaN</td>\n",
       "      <td>CC(C)[C@H](NC(=O)[C@H](CCCN=C(N)N)NC(=O)[C@H](...</td>\n",
       "    </tr>\n",
       "    <tr>\n",
       "      <th>213</th>\n",
       "      <td>CHEMBL385851</td>\n",
       "      <td>1070.15</td>\n",
       "      <td>NaN</td>\n",
       "      <td>NaN</td>\n",
       "      <td>NaN</td>\n",
       "      <td>1070.15</td>\n",
       "      <td>NaN</td>\n",
       "      <td>1069.4611</td>\n",
       "      <td>NaN</td>\n",
       "      <td>NaN</td>\n",
       "      <td>NaN</td>\n",
       "      <td>CC(C)[C@@H]1NC(=O)CNC(=O)[C@H](CO)NC(=O)[C@@H]...</td>\n",
       "    </tr>\n",
       "    <tr>\n",
       "      <th>346</th>\n",
       "      <td>CHEMBL439178</td>\n",
       "      <td>1958.13</td>\n",
       "      <td>NaN</td>\n",
       "      <td>NaN</td>\n",
       "      <td>NaN</td>\n",
       "      <td>1958.13</td>\n",
       "      <td>NaN</td>\n",
       "      <td>1956.8775</td>\n",
       "      <td>NaN</td>\n",
       "      <td>NaN</td>\n",
       "      <td>NaN</td>\n",
       "      <td>CCCN(NC(=O)[C@H]1CCCN1C(=O)[C@@H](NC(=O)[C@@H]...</td>\n",
       "    </tr>\n",
       "    <tr>\n",
       "      <th>352</th>\n",
       "      <td>CHEMBL414772</td>\n",
       "      <td>1916.10</td>\n",
       "      <td>NaN</td>\n",
       "      <td>NaN</td>\n",
       "      <td>NaN</td>\n",
       "      <td>1916.10</td>\n",
       "      <td>NaN</td>\n",
       "      <td>1914.8669</td>\n",
       "      <td>NaN</td>\n",
       "      <td>NaN</td>\n",
       "      <td>NaN</td>\n",
       "      <td>CCCN(NC(=O)[C@H]1CCCN1C(=O)[C@@H](NC(=O)[C@@H]...</td>\n",
       "    </tr>\n",
       "    <tr>\n",
       "      <th>...</th>\n",
       "      <td>...</td>\n",
       "      <td>...</td>\n",
       "      <td>...</td>\n",
       "      <td>...</td>\n",
       "      <td>...</td>\n",
       "      <td>...</td>\n",
       "      <td>...</td>\n",
       "      <td>...</td>\n",
       "      <td>...</td>\n",
       "      <td>...</td>\n",
       "      <td>...</td>\n",
       "      <td>...</td>\n",
       "    </tr>\n",
       "    <tr>\n",
       "      <th>9881</th>\n",
       "      <td>CHEMBL439090</td>\n",
       "      <td>2453.90</td>\n",
       "      <td>NaN</td>\n",
       "      <td>NaN</td>\n",
       "      <td>NaN</td>\n",
       "      <td>2453.90</td>\n",
       "      <td>NaN</td>\n",
       "      <td>2452.0030</td>\n",
       "      <td>NaN</td>\n",
       "      <td>NaN</td>\n",
       "      <td>NaN</td>\n",
       "      <td>CC[C@@H](C)[C@H](NC(=O)[C@H](CC(=O)O)NC(=O)[C@...</td>\n",
       "    </tr>\n",
       "    <tr>\n",
       "      <th>9882</th>\n",
       "      <td>CHEMBL411371</td>\n",
       "      <td>2530.00</td>\n",
       "      <td>NaN</td>\n",
       "      <td>NaN</td>\n",
       "      <td>NaN</td>\n",
       "      <td>2530.00</td>\n",
       "      <td>NaN</td>\n",
       "      <td>2528.0343</td>\n",
       "      <td>NaN</td>\n",
       "      <td>NaN</td>\n",
       "      <td>NaN</td>\n",
       "      <td>CC[C@@H](C)[C@H](NC(=O)[C@H](CC(=O)O)NC(=O)[C@...</td>\n",
       "    </tr>\n",
       "    <tr>\n",
       "      <th>9889</th>\n",
       "      <td>CHEMBL382683</td>\n",
       "      <td>2481.95</td>\n",
       "      <td>NaN</td>\n",
       "      <td>NaN</td>\n",
       "      <td>NaN</td>\n",
       "      <td>2481.95</td>\n",
       "      <td>NaN</td>\n",
       "      <td>2480.0343</td>\n",
       "      <td>NaN</td>\n",
       "      <td>NaN</td>\n",
       "      <td>NaN</td>\n",
       "      <td>CCC[C@@H](NC(=O)[C@@H](NC(=O)[C@H](CC(=O)O)NC(...</td>\n",
       "    </tr>\n",
       "    <tr>\n",
       "      <th>9890</th>\n",
       "      <td>CHEMBL440254</td>\n",
       "      <td>2515.97</td>\n",
       "      <td>NaN</td>\n",
       "      <td>NaN</td>\n",
       "      <td>NaN</td>\n",
       "      <td>2515.97</td>\n",
       "      <td>NaN</td>\n",
       "      <td>2514.0187</td>\n",
       "      <td>NaN</td>\n",
       "      <td>NaN</td>\n",
       "      <td>NaN</td>\n",
       "      <td>CC[C@@H](C)[C@H](NC(=O)[C@H](CC(=O)O)NC(=O)[C@...</td>\n",
       "    </tr>\n",
       "    <tr>\n",
       "      <th>9922</th>\n",
       "      <td>CHEMBL439471</td>\n",
       "      <td>2495.98</td>\n",
       "      <td>NaN</td>\n",
       "      <td>NaN</td>\n",
       "      <td>NaN</td>\n",
       "      <td>2495.98</td>\n",
       "      <td>NaN</td>\n",
       "      <td>2494.0500</td>\n",
       "      <td>NaN</td>\n",
       "      <td>NaN</td>\n",
       "      <td>NaN</td>\n",
       "      <td>CC[C@@H](C)[C@H](NC(=O)[C@H](CC(=O)O)NC(=O)[C@...</td>\n",
       "    </tr>\n",
       "  </tbody>\n",
       "</table>\n",
       "<p>357 rows × 12 columns</p>\n",
       "</div>"
      ],
      "text/plain": [
       "         chembl_id  mw_freebase  alogp  psa  rtb  full_mwt  aromatic_rings  \\\n",
       "121   CHEMBL383864      1081.39    NaN  NaN  NaN   1081.39             NaN   \n",
       "212   CHEMBL266306      1574.97    NaN  NaN  NaN   1574.97             NaN   \n",
       "213   CHEMBL385851      1070.15    NaN  NaN  NaN   1070.15             NaN   \n",
       "346   CHEMBL439178      1958.13    NaN  NaN  NaN   1958.13             NaN   \n",
       "352   CHEMBL414772      1916.10    NaN  NaN  NaN   1916.10             NaN   \n",
       "...            ...          ...    ...  ...  ...       ...             ...   \n",
       "9881  CHEMBL439090      2453.90    NaN  NaN  NaN   2453.90             NaN   \n",
       "9882  CHEMBL411371      2530.00    NaN  NaN  NaN   2530.00             NaN   \n",
       "9889  CHEMBL382683      2481.95    NaN  NaN  NaN   2481.95             NaN   \n",
       "9890  CHEMBL440254      2515.97    NaN  NaN  NaN   2515.97             NaN   \n",
       "9922  CHEMBL439471      2495.98    NaN  NaN  NaN   2495.98             NaN   \n",
       "\n",
       "      mw_monoisotopic  hba_lipinski  hbd_lipinski  \\\n",
       "121         1080.6498           NaN           NaN   \n",
       "212         1573.7792           NaN           NaN   \n",
       "213         1069.4611           NaN           NaN   \n",
       "346         1956.8775           NaN           NaN   \n",
       "352         1914.8669           NaN           NaN   \n",
       "...               ...           ...           ...   \n",
       "9881        2452.0030           NaN           NaN   \n",
       "9882        2528.0343           NaN           NaN   \n",
       "9889        2480.0343           NaN           NaN   \n",
       "9890        2514.0187           NaN           NaN   \n",
       "9922        2494.0500           NaN           NaN   \n",
       "\n",
       "      num_lipinski_ro5_violations  \\\n",
       "121                           NaN   \n",
       "212                           NaN   \n",
       "213                           NaN   \n",
       "346                           NaN   \n",
       "352                           NaN   \n",
       "...                           ...   \n",
       "9881                          NaN   \n",
       "9882                          NaN   \n",
       "9889                          NaN   \n",
       "9890                          NaN   \n",
       "9922                          NaN   \n",
       "\n",
       "                                       canonical_smiles  \n",
       "121   COCCc1ccc(OCC(O)CN(CC(O)COc2ccc(CCOC)cc2)C(C)C...  \n",
       "212   CC(C)[C@H](NC(=O)[C@H](CCCN=C(N)N)NC(=O)[C@H](...  \n",
       "213   CC(C)[C@@H]1NC(=O)CNC(=O)[C@H](CO)NC(=O)[C@@H]...  \n",
       "346   CCCN(NC(=O)[C@H]1CCCN1C(=O)[C@@H](NC(=O)[C@@H]...  \n",
       "352   CCCN(NC(=O)[C@H]1CCCN1C(=O)[C@@H](NC(=O)[C@@H]...  \n",
       "...                                                 ...  \n",
       "9881  CC[C@@H](C)[C@H](NC(=O)[C@H](CC(=O)O)NC(=O)[C@...  \n",
       "9882  CC[C@@H](C)[C@H](NC(=O)[C@H](CC(=O)O)NC(=O)[C@...  \n",
       "9889  CCC[C@@H](NC(=O)[C@@H](NC(=O)[C@H](CC(=O)O)NC(...  \n",
       "9890  CC[C@@H](C)[C@H](NC(=O)[C@H](CC(=O)O)NC(=O)[C@...  \n",
       "9922  CC[C@@H](C)[C@H](NC(=O)[C@H](CC(=O)O)NC(=O)[C@...  \n",
       "\n",
       "[357 rows x 12 columns]"
      ]
     },
     "execution_count": 7,
     "metadata": {},
     "output_type": "execute_result"
    }
   ],
   "source": [
    "dataframe.loc[dataframe.isnull().any(axis=1)].sort_values(by='psa')"
   ]
  },
  {
   "cell_type": "code",
   "execution_count": 8,
   "id": "44c2e7f1",
   "metadata": {},
   "outputs": [],
   "source": [
    "ids_com_nan = dataframe.loc[dataframe.isnull().any(axis=1)][['chembl_id', 'canonical_smiles']]"
   ]
  },
  {
   "cell_type": "code",
   "execution_count": 24,
   "id": "9d57d04a",
   "metadata": {},
   "outputs": [
    {
     "ename": "SyntaxError",
     "evalue": "invalid syntax (3203176398.py, line 1)",
     "output_type": "error",
     "traceback": [
      "\u001b[0;36m  Input \u001b[0;32mIn [24]\u001b[0;36m\u001b[0m\n\u001b[0;31m    dataframe.query('chembl_id == 'CHEMBL266306'')\u001b[0m\n\u001b[0m                                   ^\u001b[0m\n\u001b[0;31mSyntaxError\u001b[0m\u001b[0;31m:\u001b[0m invalid syntax\n"
     ]
    }
   ],
   "source": [
    "dataframe.query('chembl_id == 'CHEMBL266306'')"
   ]
  },
  {
   "cell_type": "code",
   "execution_count": 28,
   "id": "d8521782",
   "metadata": {},
   "outputs": [],
   "source": [
    "dataframe= dataframe.drop(dataframe.iloc[:,0:1], axis=1)"
   ]
  },
  {
   "cell_type": "code",
   "execution_count": 43,
   "id": "de228d87",
   "metadata": {},
   "outputs": [
    {
     "data": {
      "text/html": [
       "<div>\n",
       "<style scoped>\n",
       "    .dataframe tbody tr th:only-of-type {\n",
       "        vertical-align: middle;\n",
       "    }\n",
       "\n",
       "    .dataframe tbody tr th {\n",
       "        vertical-align: top;\n",
       "    }\n",
       "\n",
       "    .dataframe thead th {\n",
       "        text-align: right;\n",
       "    }\n",
       "</style>\n",
       "<table border=\"1\" class=\"dataframe\">\n",
       "  <thead>\n",
       "    <tr style=\"text-align: right;\">\n",
       "      <th></th>\n",
       "      <th>molregno</th>\n",
       "      <th>chembl_id</th>\n",
       "      <th>mw_freebase</th>\n",
       "      <th>alogp</th>\n",
       "      <th>hba</th>\n",
       "      <th>hbd</th>\n",
       "      <th>psa</th>\n",
       "      <th>rtb</th>\n",
       "      <th>cx_most_apka</th>\n",
       "      <th>cx_most_bpka</th>\n",
       "      <th>...</th>\n",
       "      <th>qed_weighted</th>\n",
       "      <th>mw_monoisotopic</th>\n",
       "      <th>full_molformula</th>\n",
       "      <th>hba_lipinski</th>\n",
       "      <th>hbd_lipinski</th>\n",
       "      <th>molecular_species_ACID</th>\n",
       "      <th>molecular_species_BASE</th>\n",
       "      <th>molecular_species_NEUTRAL</th>\n",
       "      <th>grupos</th>\n",
       "      <th>grupos_cluster_knn</th>\n",
       "    </tr>\n",
       "  </thead>\n",
       "  <tbody>\n",
       "  </tbody>\n",
       "</table>\n",
       "<p>0 rows × 25 columns</p>\n",
       "</div>"
      ],
      "text/plain": [
       "Empty DataFrame\n",
       "Columns: [molregno, chembl_id, mw_freebase, alogp, hba, hbd, psa, rtb, cx_most_apka, cx_most_bpka, cx_logp, cx_logd, full_mwt, aromatic_rings, heavy_atoms, qed_weighted, mw_monoisotopic, full_molformula, hba_lipinski, hbd_lipinski, molecular_species_ACID, molecular_species_BASE, molecular_species_NEUTRAL, grupos, grupos_cluster_knn]\n",
       "Index: []\n",
       "\n",
       "[0 rows x 25 columns]"
      ]
     },
     "execution_count": 43,
     "metadata": {},
     "output_type": "execute_result"
    }
   ],
   "source": [
    "dataframe[dataframe[dataframe.columns[0]] == \"exist\"]"
   ]
  },
  {
   "cell_type": "code",
   "execution_count": 30,
   "id": "99db5d7b",
   "metadata": {},
   "outputs": [],
   "source": [
    "teste = dataframe.columns"
   ]
  },
  {
   "cell_type": "code",
   "execution_count": 39,
   "id": "08e8c953",
   "metadata": {},
   "outputs": [
    {
     "data": {
      "text/plain": [
       "'molregno'"
      ]
     },
     "execution_count": 39,
     "metadata": {},
     "output_type": "execute_result"
    }
   ],
   "source": [
    "teste[0]"
   ]
  },
  {
   "cell_type": "code",
   "execution_count": 11,
   "id": "37f940a7",
   "metadata": {},
   "outputs": [
    {
     "name": "stdout",
     "output_type": "stream",
     "text": [
      "Parte 1 de 1\n"
     ]
    }
   ],
   "source": [
    "quantidades = 1 \n",
    "threads_num = 20\n",
    "for i in range(quantidades):\n",
    "    print(f\"Parte {i + 1} de {quantidades}\")\n",
    "    tamanho_ini = int(i * len(ids_com_nan)/quantidades)\n",
    "    tamanho_fim = int((i + 1) * len(ids_com_nan)/quantidades)\n",
    "    atualiza_data_frame_com_lipinski(ids_com_nan, dataframe, threads_num)\n"
   ]
  },
  {
   "cell_type": "code",
   "execution_count": 2,
   "id": "877fa8fc",
   "metadata": {},
   "outputs": [
    {
     "ename": "NameError",
     "evalue": "name 'df' is not defined",
     "output_type": "error",
     "traceback": [
      "\u001b[0;31m---------------------------------------------------------------------------\u001b[0m",
      "\u001b[0;31mNameError\u001b[0m                                 Traceback (most recent call last)",
      "Input \u001b[0;32mIn [2]\u001b[0m, in \u001b[0;36m<module>\u001b[0;34m\u001b[0m\n\u001b[0;32m----> 1\u001b[0m \u001b[43mdf\u001b[49m\u001b[38;5;241m.\u001b[39mloc[df\u001b[38;5;241m.\u001b[39misnull()\u001b[38;5;241m.\u001b[39many(axis\u001b[38;5;241m=\u001b[39m\u001b[38;5;241m1\u001b[39m)]\u001b[38;5;241m.\u001b[39msort_values(by\u001b[38;5;241m=\u001b[39m\u001b[38;5;124m'\u001b[39m\u001b[38;5;124mchembl_id\u001b[39m\u001b[38;5;124m'\u001b[39m)\n",
      "\u001b[0;31mNameError\u001b[0m: name 'df' is not defined"
     ]
    }
   ],
   "source": [
    "df.loc[df.isnull().any(axis=1)].sort_values(by='chembl_id')"
   ]
  },
  {
   "cell_type": "code",
   "execution_count": 13,
   "id": "cfb68edb",
   "metadata": {},
   "outputs": [
    {
     "data": {
      "text/html": [
       "<div>\n",
       "<style scoped>\n",
       "    .dataframe tbody tr th:only-of-type {\n",
       "        vertical-align: middle;\n",
       "    }\n",
       "\n",
       "    .dataframe tbody tr th {\n",
       "        vertical-align: top;\n",
       "    }\n",
       "\n",
       "    .dataframe thead th {\n",
       "        text-align: right;\n",
       "    }\n",
       "</style>\n",
       "<table border=\"1\" class=\"dataframe\">\n",
       "  <thead>\n",
       "    <tr style=\"text-align: right;\">\n",
       "      <th></th>\n",
       "      <th>chembl_id</th>\n",
       "      <th>mw_freebase</th>\n",
       "      <th>alogp</th>\n",
       "      <th>psa</th>\n",
       "      <th>rtb</th>\n",
       "      <th>full_mwt</th>\n",
       "      <th>aromatic_rings</th>\n",
       "      <th>mw_monoisotopic</th>\n",
       "      <th>hba_lipinski</th>\n",
       "      <th>hbd_lipinski</th>\n",
       "      <th>num_lipinski_ro5_violations</th>\n",
       "      <th>canonical_smiles</th>\n",
       "    </tr>\n",
       "  </thead>\n",
       "  <tbody>\n",
       "    <tr>\n",
       "      <th>0</th>\n",
       "      <td>CHEMBL6329</td>\n",
       "      <td>341.75</td>\n",
       "      <td>2.11</td>\n",
       "      <td>84.82</td>\n",
       "      <td>3.0</td>\n",
       "      <td>341.75</td>\n",
       "      <td>3.0</td>\n",
       "      <td>341.0567</td>\n",
       "      <td>6.0</td>\n",
       "      <td>1.0</td>\n",
       "      <td>0.0</td>\n",
       "      <td>Cc1cc(-n2ncc(=O)[nH]c2=O)ccc1C(=O)c1ccccc1Cl</td>\n",
       "    </tr>\n",
       "    <tr>\n",
       "      <th>1</th>\n",
       "      <td>CHEMBL6328</td>\n",
       "      <td>332.32</td>\n",
       "      <td>1.33</td>\n",
       "      <td>108.61</td>\n",
       "      <td>3.0</td>\n",
       "      <td>332.32</td>\n",
       "      <td>3.0</td>\n",
       "      <td>332.0909</td>\n",
       "      <td>7.0</td>\n",
       "      <td>1.0</td>\n",
       "      <td>0.0</td>\n",
       "      <td>Cc1cc(-n2ncc(=O)[nH]c2=O)ccc1C(=O)c1ccc(C#N)cc1</td>\n",
       "    </tr>\n",
       "    <tr>\n",
       "      <th>2</th>\n",
       "      <td>CHEMBL265667</td>\n",
       "      <td>357.80</td>\n",
       "      <td>2.27</td>\n",
       "      <td>87.98</td>\n",
       "      <td>3.0</td>\n",
       "      <td>357.80</td>\n",
       "      <td>3.0</td>\n",
       "      <td>357.0880</td>\n",
       "      <td>6.0</td>\n",
       "      <td>2.0</td>\n",
       "      <td>0.0</td>\n",
       "      <td>Cc1cc(-n2ncc(=O)[nH]c2=O)cc(C)c1C(O)c1ccc(Cl)cc1</td>\n",
       "    </tr>\n",
       "    <tr>\n",
       "      <th>3</th>\n",
       "      <td>CHEMBL6362</td>\n",
       "      <td>307.31</td>\n",
       "      <td>1.46</td>\n",
       "      <td>84.82</td>\n",
       "      <td>3.0</td>\n",
       "      <td>307.31</td>\n",
       "      <td>3.0</td>\n",
       "      <td>307.0957</td>\n",
       "      <td>6.0</td>\n",
       "      <td>1.0</td>\n",
       "      <td>0.0</td>\n",
       "      <td>Cc1ccc(C(=O)c2ccc(-n3ncc(=O)[nH]c3=O)cc2)cc1</td>\n",
       "    </tr>\n",
       "    <tr>\n",
       "      <th>4</th>\n",
       "      <td>CHEMBL267864</td>\n",
       "      <td>341.75</td>\n",
       "      <td>2.11</td>\n",
       "      <td>84.82</td>\n",
       "      <td>3.0</td>\n",
       "      <td>341.75</td>\n",
       "      <td>3.0</td>\n",
       "      <td>341.0567</td>\n",
       "      <td>6.0</td>\n",
       "      <td>1.0</td>\n",
       "      <td>0.0</td>\n",
       "      <td>Cc1cc(-n2ncc(=O)[nH]c2=O)ccc1C(=O)c1ccc(Cl)cc1</td>\n",
       "    </tr>\n",
       "    <tr>\n",
       "      <th>...</th>\n",
       "      <td>...</td>\n",
       "      <td>...</td>\n",
       "      <td>...</td>\n",
       "      <td>...</td>\n",
       "      <td>...</td>\n",
       "      <td>...</td>\n",
       "      <td>...</td>\n",
       "      <td>...</td>\n",
       "      <td>...</td>\n",
       "      <td>...</td>\n",
       "      <td>...</td>\n",
       "      <td>...</td>\n",
       "    </tr>\n",
       "    <tr>\n",
       "      <th>9995</th>\n",
       "      <td>CHEMBL430323</td>\n",
       "      <td>548.49</td>\n",
       "      <td>6.65</td>\n",
       "      <td>96.61</td>\n",
       "      <td>6.0</td>\n",
       "      <td>548.49</td>\n",
       "      <td>3.0</td>\n",
       "      <td>547.0987</td>\n",
       "      <td>6.0</td>\n",
       "      <td>2.0</td>\n",
       "      <td>2.0</td>\n",
       "      <td>O=c1c2c(oc(O)c1C(c1cccc(NS(=O)(=O)c3ccc(Cl)c(C...</td>\n",
       "    </tr>\n",
       "    <tr>\n",
       "      <th>9996</th>\n",
       "      <td>CHEMBL16377</td>\n",
       "      <td>360.37</td>\n",
       "      <td>4.19</td>\n",
       "      <td>91.56</td>\n",
       "      <td>3.0</td>\n",
       "      <td>360.37</td>\n",
       "      <td>4.0</td>\n",
       "      <td>360.1110</td>\n",
       "      <td>6.0</td>\n",
       "      <td>3.0</td>\n",
       "      <td>0.0</td>\n",
       "      <td>CC(=O)c1c(O)n(O)c2cc(NC(=O)c3ccc4ccccc4c3)ccc12</td>\n",
       "    </tr>\n",
       "    <tr>\n",
       "      <th>9997</th>\n",
       "      <td>CHEMBL16561</td>\n",
       "      <td>292.32</td>\n",
       "      <td>2.23</td>\n",
       "      <td>88.52</td>\n",
       "      <td>4.0</td>\n",
       "      <td>353.40</td>\n",
       "      <td>2.0</td>\n",
       "      <td>292.0518</td>\n",
       "      <td>6.0</td>\n",
       "      <td>2.0</td>\n",
       "      <td>0.0</td>\n",
       "      <td>CCOc1ccc(-c2csc(NC(=O)C(=O)O)n2)cc1.NCCO</td>\n",
       "    </tr>\n",
       "    <tr>\n",
       "      <th>9998</th>\n",
       "      <td>CHEMBL16562</td>\n",
       "      <td>320.37</td>\n",
       "      <td>2.71</td>\n",
       "      <td>77.52</td>\n",
       "      <td>5.0</td>\n",
       "      <td>320.37</td>\n",
       "      <td>2.0</td>\n",
       "      <td>320.0831</td>\n",
       "      <td>6.0</td>\n",
       "      <td>1.0</td>\n",
       "      <td>0.0</td>\n",
       "      <td>CCOC(=O)C(=O)Nc1nc(-c2ccc(OCC)cc2)cs1</td>\n",
       "    </tr>\n",
       "    <tr>\n",
       "      <th>9999</th>\n",
       "      <td>CHEMBL274691</td>\n",
       "      <td>372.40</td>\n",
       "      <td>3.03</td>\n",
       "      <td>98.50</td>\n",
       "      <td>3.0</td>\n",
       "      <td>372.40</td>\n",
       "      <td>3.0</td>\n",
       "      <td>372.0780</td>\n",
       "      <td>7.0</td>\n",
       "      <td>1.0</td>\n",
       "      <td>0.0</td>\n",
       "      <td>CCOC(=O)C(=O)Nc1nc(-c2ccc3oc(C)c(C)c(=O)c3c2)cs1</td>\n",
       "    </tr>\n",
       "  </tbody>\n",
       "</table>\n",
       "<p>10000 rows × 12 columns</p>\n",
       "</div>"
      ],
      "text/plain": [
       "         chembl_id  mw_freebase  alogp     psa  rtb  full_mwt  aromatic_rings  \\\n",
       "0       CHEMBL6329       341.75   2.11   84.82  3.0    341.75             3.0   \n",
       "1       CHEMBL6328       332.32   1.33  108.61  3.0    332.32             3.0   \n",
       "2     CHEMBL265667       357.80   2.27   87.98  3.0    357.80             3.0   \n",
       "3       CHEMBL6362       307.31   1.46   84.82  3.0    307.31             3.0   \n",
       "4     CHEMBL267864       341.75   2.11   84.82  3.0    341.75             3.0   \n",
       "...            ...          ...    ...     ...  ...       ...             ...   \n",
       "9995  CHEMBL430323       548.49   6.65   96.61  6.0    548.49             3.0   \n",
       "9996   CHEMBL16377       360.37   4.19   91.56  3.0    360.37             4.0   \n",
       "9997   CHEMBL16561       292.32   2.23   88.52  4.0    353.40             2.0   \n",
       "9998   CHEMBL16562       320.37   2.71   77.52  5.0    320.37             2.0   \n",
       "9999  CHEMBL274691       372.40   3.03   98.50  3.0    372.40             3.0   \n",
       "\n",
       "      mw_monoisotopic  hba_lipinski  hbd_lipinski num_lipinski_ro5_violations  \\\n",
       "0            341.0567           6.0           1.0                         0.0   \n",
       "1            332.0909           7.0           1.0                         0.0   \n",
       "2            357.0880           6.0           2.0                         0.0   \n",
       "3            307.0957           6.0           1.0                         0.0   \n",
       "4            341.0567           6.0           1.0                         0.0   \n",
       "...               ...           ...           ...                         ...   \n",
       "9995         547.0987           6.0           2.0                         2.0   \n",
       "9996         360.1110           6.0           3.0                         0.0   \n",
       "9997         292.0518           6.0           2.0                         0.0   \n",
       "9998         320.0831           6.0           1.0                         0.0   \n",
       "9999         372.0780           7.0           1.0                         0.0   \n",
       "\n",
       "                                       canonical_smiles  \n",
       "0          Cc1cc(-n2ncc(=O)[nH]c2=O)ccc1C(=O)c1ccccc1Cl  \n",
       "1       Cc1cc(-n2ncc(=O)[nH]c2=O)ccc1C(=O)c1ccc(C#N)cc1  \n",
       "2      Cc1cc(-n2ncc(=O)[nH]c2=O)cc(C)c1C(O)c1ccc(Cl)cc1  \n",
       "3          Cc1ccc(C(=O)c2ccc(-n3ncc(=O)[nH]c3=O)cc2)cc1  \n",
       "4        Cc1cc(-n2ncc(=O)[nH]c2=O)ccc1C(=O)c1ccc(Cl)cc1  \n",
       "...                                                 ...  \n",
       "9995  O=c1c2c(oc(O)c1C(c1cccc(NS(=O)(=O)c3ccc(Cl)c(C...  \n",
       "9996    CC(=O)c1c(O)n(O)c2cc(NC(=O)c3ccc4ccccc4c3)ccc12  \n",
       "9997           CCOc1ccc(-c2csc(NC(=O)C(=O)O)n2)cc1.NCCO  \n",
       "9998              CCOC(=O)C(=O)Nc1nc(-c2ccc(OCC)cc2)cs1  \n",
       "9999   CCOC(=O)C(=O)Nc1nc(-c2ccc3oc(C)c(C)c(=O)c3c2)cs1  \n",
       "\n",
       "[10000 rows x 12 columns]"
      ]
     },
     "execution_count": 13,
     "metadata": {},
     "output_type": "execute_result"
    }
   ],
   "source": [
    "dataframe"
   ]
  },
  {
   "cell_type": "code",
   "execution_count": 14,
   "id": "08fa2ce4",
   "metadata": {},
   "outputs": [],
   "source": [
    "con_2 = sqlite3.connect('data_teste.db')"
   ]
  },
  {
   "cell_type": "code",
   "execution_count": 15,
   "id": "43991125",
   "metadata": {},
   "outputs": [],
   "source": [
    "#leitura.to_sql(\"data\",con_2,if_exists='replace')"
   ]
  },
  {
   "cell_type": "code",
   "execution_count": 16,
   "id": "8e551000",
   "metadata": {},
   "outputs": [],
   "source": [
    "#leitura"
   ]
  },
  {
   "cell_type": "code",
   "execution_count": null,
   "id": "fdca0c08",
   "metadata": {},
   "outputs": [],
   "source": []
  }
 ],
 "metadata": {
  "kernelspec": {
   "display_name": "Python 3 (ipykernel)",
   "language": "python",
   "name": "python3"
  },
  "language_info": {
   "codemirror_mode": {
    "name": "ipython",
    "version": 3
   },
   "file_extension": ".py",
   "mimetype": "text/x-python",
   "name": "python",
   "nbconvert_exporter": "python",
   "pygments_lexer": "ipython3",
   "version": "3.9.10"
  }
 },
 "nbformat": 4,
 "nbformat_minor": 5
}
