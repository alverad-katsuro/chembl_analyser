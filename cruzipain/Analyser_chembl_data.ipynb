{
 "cells": [
  {
   "cell_type": "code",
   "execution_count": 1,
   "metadata": {},
   "outputs": [],
   "source": [
    "# To add a new cell, type '# %%'\n",
    "# To add a new markdown cell, type '# %% [markdown]'\n",
    "# %%\n",
    "import pandas as pd\n",
    "import sqlite3\n",
    "import numpy as np\n",
    "import sys, os\n",
    "sys.path.append(\"../module/\")\n",
    "from lipinski import * "
   ]
  },
  {
   "cell_type": "code",
   "execution_count": 2,
   "metadata": {},
   "outputs": [],
   "source": [
    "pd.options.display.max_columns = 30"
   ]
  },
  {
   "cell_type": "code",
   "execution_count": 3,
   "metadata": {},
   "outputs": [],
   "source": [
    "con = sqlite3.connect(\"../data/chembl_29.db\")"
   ]
  },
  {
   "cell_type": "code",
   "execution_count": 4,
   "metadata": {
    "scrolled": true
   },
   "outputs": [],
   "source": [
    "molregno_chembl_id = pd.read_sql_query(\"SELECT compound_properties.*, molecule_dictionary.chembl_id, compound_structures.canonical_smiles FROM compound_properties INNER JOIN compound_structures ON compound_structures.molregno=compound_properties.molregno INNER JOIN molecule_dictionary ON molecule_dictionary.molregno=compound_properties.molregno;\", con)"
   ]
  },
  {
   "cell_type": "code",
   "execution_count": 5,
   "metadata": {
    "scrolled": true
   },
   "outputs": [],
   "source": [
    "molregno_chembl_id = molregno_chembl_id.drop(['ro3_pass', 'hba', 'hbd', 'num_ro5_violations', 'full_molformula'], axis=1)"
   ]
  },
  {
   "cell_type": "code",
   "execution_count": 6,
   "metadata": {
    "scrolled": true
   },
   "outputs": [],
   "source": [
    "molregno_chembl_id = pd.merge(molregno_chembl_id.chembl_id, molregno_chembl_id)"
   ]
  },
  {
   "cell_type": "code",
   "execution_count": 7,
   "metadata": {},
   "outputs": [],
   "source": [
    "molregno_chembl_id = molregno_chembl_id.drop(['molregno'], axis=1)"
   ]
  },
  {
   "cell_type": "code",
   "execution_count": 8,
   "metadata": {},
   "outputs": [],
   "source": [
    "index_duplicates = molregno_chembl_id[molregno_chembl_id.canonical_smiles.duplicated()].sort_values(by=['canonical_smiles']).index"
   ]
  },
  {
   "cell_type": "code",
   "execution_count": 9,
   "metadata": {},
   "outputs": [
    {
     "data": {
      "text/html": [
       "<div>\n",
       "<style scoped>\n",
       "    .dataframe tbody tr th:only-of-type {\n",
       "        vertical-align: middle;\n",
       "    }\n",
       "\n",
       "    .dataframe tbody tr th {\n",
       "        vertical-align: top;\n",
       "    }\n",
       "\n",
       "    .dataframe thead th {\n",
       "        text-align: right;\n",
       "    }\n",
       "</style>\n",
       "<table border=\"1\" class=\"dataframe\">\n",
       "  <thead>\n",
       "    <tr style=\"text-align: right;\">\n",
       "      <th></th>\n",
       "      <th>chembl_id</th>\n",
       "      <th>mw_freebase</th>\n",
       "      <th>alogp</th>\n",
       "      <th>psa</th>\n",
       "      <th>rtb</th>\n",
       "      <th>cx_most_apka</th>\n",
       "      <th>cx_most_bpka</th>\n",
       "      <th>cx_logp</th>\n",
       "      <th>cx_logd</th>\n",
       "      <th>molecular_species</th>\n",
       "      <th>full_mwt</th>\n",
       "      <th>aromatic_rings</th>\n",
       "      <th>heavy_atoms</th>\n",
       "      <th>qed_weighted</th>\n",
       "      <th>mw_monoisotopic</th>\n",
       "      <th>hba_lipinski</th>\n",
       "      <th>hbd_lipinski</th>\n",
       "      <th>num_lipinski_ro5_violations</th>\n",
       "      <th>canonical_smiles</th>\n",
       "    </tr>\n",
       "  </thead>\n",
       "  <tbody>\n",
       "    <tr>\n",
       "      <th>0</th>\n",
       "      <td>CHEMBL6329</td>\n",
       "      <td>341.75</td>\n",
       "      <td>2.11</td>\n",
       "      <td>84.82</td>\n",
       "      <td>3.0</td>\n",
       "      <td>6.48</td>\n",
       "      <td>NaN</td>\n",
       "      <td>3.63</td>\n",
       "      <td>2.69</td>\n",
       "      <td>ACID</td>\n",
       "      <td>341.75</td>\n",
       "      <td>3.0</td>\n",
       "      <td>24.0</td>\n",
       "      <td>0.74</td>\n",
       "      <td>341.0567</td>\n",
       "      <td>6.0</td>\n",
       "      <td>1.0</td>\n",
       "      <td>0.0</td>\n",
       "      <td>Cc1cc(-n2ncc(=O)[nH]c2=O)ccc1C(=O)c1ccccc1Cl</td>\n",
       "    </tr>\n",
       "    <tr>\n",
       "      <th>1</th>\n",
       "      <td>CHEMBL6328</td>\n",
       "      <td>332.32</td>\n",
       "      <td>1.33</td>\n",
       "      <td>108.61</td>\n",
       "      <td>3.0</td>\n",
       "      <td>6.33</td>\n",
       "      <td>NaN</td>\n",
       "      <td>2.88</td>\n",
       "      <td>1.82</td>\n",
       "      <td>ACID</td>\n",
       "      <td>332.32</td>\n",
       "      <td>3.0</td>\n",
       "      <td>25.0</td>\n",
       "      <td>0.73</td>\n",
       "      <td>332.0909</td>\n",
       "      <td>7.0</td>\n",
       "      <td>1.0</td>\n",
       "      <td>0.0</td>\n",
       "      <td>Cc1cc(-n2ncc(=O)[nH]c2=O)ccc1C(=O)c1ccc(C#N)cc1</td>\n",
       "    </tr>\n",
       "    <tr>\n",
       "      <th>2</th>\n",
       "      <td>CHEMBL265667</td>\n",
       "      <td>357.80</td>\n",
       "      <td>2.27</td>\n",
       "      <td>87.98</td>\n",
       "      <td>3.0</td>\n",
       "      <td>6.33</td>\n",
       "      <td>NaN</td>\n",
       "      <td>3.70</td>\n",
       "      <td>2.64</td>\n",
       "      <td>ACID</td>\n",
       "      <td>357.80</td>\n",
       "      <td>3.0</td>\n",
       "      <td>25.0</td>\n",
       "      <td>0.75</td>\n",
       "      <td>357.0880</td>\n",
       "      <td>6.0</td>\n",
       "      <td>2.0</td>\n",
       "      <td>0.0</td>\n",
       "      <td>Cc1cc(-n2ncc(=O)[nH]c2=O)cc(C)c1C(O)c1ccc(Cl)cc1</td>\n",
       "    </tr>\n",
       "    <tr>\n",
       "      <th>3</th>\n",
       "      <td>CHEMBL6362</td>\n",
       "      <td>307.31</td>\n",
       "      <td>1.46</td>\n",
       "      <td>84.82</td>\n",
       "      <td>3.0</td>\n",
       "      <td>6.33</td>\n",
       "      <td>NaN</td>\n",
       "      <td>3.02</td>\n",
       "      <td>1.97</td>\n",
       "      <td>ACID</td>\n",
       "      <td>307.31</td>\n",
       "      <td>3.0</td>\n",
       "      <td>23.0</td>\n",
       "      <td>0.74</td>\n",
       "      <td>307.0957</td>\n",
       "      <td>6.0</td>\n",
       "      <td>1.0</td>\n",
       "      <td>0.0</td>\n",
       "      <td>Cc1ccc(C(=O)c2ccc(-n3ncc(=O)[nH]c3=O)cc2)cc1</td>\n",
       "    </tr>\n",
       "    <tr>\n",
       "      <th>4</th>\n",
       "      <td>CHEMBL267864</td>\n",
       "      <td>341.75</td>\n",
       "      <td>2.11</td>\n",
       "      <td>84.82</td>\n",
       "      <td>3.0</td>\n",
       "      <td>6.33</td>\n",
       "      <td>NaN</td>\n",
       "      <td>3.63</td>\n",
       "      <td>2.57</td>\n",
       "      <td>ACID</td>\n",
       "      <td>341.75</td>\n",
       "      <td>3.0</td>\n",
       "      <td>24.0</td>\n",
       "      <td>0.74</td>\n",
       "      <td>341.0567</td>\n",
       "      <td>6.0</td>\n",
       "      <td>1.0</td>\n",
       "      <td>0.0</td>\n",
       "      <td>Cc1cc(-n2ncc(=O)[nH]c2=O)ccc1C(=O)c1ccc(Cl)cc1</td>\n",
       "    </tr>\n",
       "    <tr>\n",
       "      <th>...</th>\n",
       "      <td>...</td>\n",
       "      <td>...</td>\n",
       "      <td>...</td>\n",
       "      <td>...</td>\n",
       "      <td>...</td>\n",
       "      <td>...</td>\n",
       "      <td>...</td>\n",
       "      <td>...</td>\n",
       "      <td>...</td>\n",
       "      <td>...</td>\n",
       "      <td>...</td>\n",
       "      <td>...</td>\n",
       "      <td>...</td>\n",
       "      <td>...</td>\n",
       "      <td>...</td>\n",
       "      <td>...</td>\n",
       "      <td>...</td>\n",
       "      <td>...</td>\n",
       "      <td>...</td>\n",
       "    </tr>\n",
       "    <tr>\n",
       "      <th>2084719</th>\n",
       "      <td>CHEMBL4651250</td>\n",
       "      <td>556.38</td>\n",
       "      <td>NaN</td>\n",
       "      <td>NaN</td>\n",
       "      <td>NaN</td>\n",
       "      <td>NaN</td>\n",
       "      <td>NaN</td>\n",
       "      <td>NaN</td>\n",
       "      <td>NaN</td>\n",
       "      <td>None</td>\n",
       "      <td>556.38</td>\n",
       "      <td>NaN</td>\n",
       "      <td>NaN</td>\n",
       "      <td>NaN</td>\n",
       "      <td>556.2055</td>\n",
       "      <td>NaN</td>\n",
       "      <td>NaN</td>\n",
       "      <td>NaN</td>\n",
       "      <td>COc1ccc([P+](CCC(=O)Nc2ccc3c(c2)B(O)OC3)(c2ccc...</td>\n",
       "    </tr>\n",
       "    <tr>\n",
       "      <th>2084720</th>\n",
       "      <td>CHEMBL4651251</td>\n",
       "      <td>378.30</td>\n",
       "      <td>3.13</td>\n",
       "      <td>58.36</td>\n",
       "      <td>5.0</td>\n",
       "      <td>NaN</td>\n",
       "      <td>9.33</td>\n",
       "      <td>2.96</td>\n",
       "      <td>0.43</td>\n",
       "      <td>BASE</td>\n",
       "      <td>378.30</td>\n",
       "      <td>2.0</td>\n",
       "      <td>25.0</td>\n",
       "      <td>0.84</td>\n",
       "      <td>377.1062</td>\n",
       "      <td>4.0</td>\n",
       "      <td>3.0</td>\n",
       "      <td>0.0</td>\n",
       "      <td>CNCc1ccc2c(c1)CN(C(=O)[C@H](N)Cc1ccc(Cl)cc1Cl)C2</td>\n",
       "    </tr>\n",
       "    <tr>\n",
       "      <th>2084721</th>\n",
       "      <td>CHEMBL4651252</td>\n",
       "      <td>356.42</td>\n",
       "      <td>2.29</td>\n",
       "      <td>90.82</td>\n",
       "      <td>7.0</td>\n",
       "      <td>9.18</td>\n",
       "      <td>9.79</td>\n",
       "      <td>1.64</td>\n",
       "      <td>0.31</td>\n",
       "      <td>BASE</td>\n",
       "      <td>356.42</td>\n",
       "      <td>2.0</td>\n",
       "      <td>26.0</td>\n",
       "      <td>0.57</td>\n",
       "      <td>356.1736</td>\n",
       "      <td>6.0</td>\n",
       "      <td>4.0</td>\n",
       "      <td>0.0</td>\n",
       "      <td>Cc1ccc(CCCNCC(O)c2cc(O)cc3c2OCC(=O)N3)cc1</td>\n",
       "    </tr>\n",
       "    <tr>\n",
       "      <th>2084722</th>\n",
       "      <td>CHEMBL4651253</td>\n",
       "      <td>1023.94</td>\n",
       "      <td>NaN</td>\n",
       "      <td>NaN</td>\n",
       "      <td>NaN</td>\n",
       "      <td>NaN</td>\n",
       "      <td>NaN</td>\n",
       "      <td>NaN</td>\n",
       "      <td>NaN</td>\n",
       "      <td>None</td>\n",
       "      <td>1023.94</td>\n",
       "      <td>NaN</td>\n",
       "      <td>NaN</td>\n",
       "      <td>NaN</td>\n",
       "      <td>1023.2919</td>\n",
       "      <td>NaN</td>\n",
       "      <td>NaN</td>\n",
       "      <td>NaN</td>\n",
       "      <td>CCCCCCCCCCCCCCCCOC(=O)Oc1ccc(COP(=O)(OCc2ccc(O...</td>\n",
       "    </tr>\n",
       "    <tr>\n",
       "      <th>2084723</th>\n",
       "      <td>CHEMBL4651254</td>\n",
       "      <td>482.53</td>\n",
       "      <td>4.63</td>\n",
       "      <td>90.82</td>\n",
       "      <td>8.0</td>\n",
       "      <td>9.19</td>\n",
       "      <td>9.99</td>\n",
       "      <td>3.45</td>\n",
       "      <td>2.04</td>\n",
       "      <td>BASE</td>\n",
       "      <td>482.53</td>\n",
       "      <td>3.0</td>\n",
       "      <td>35.0</td>\n",
       "      <td>0.38</td>\n",
       "      <td>482.2017</td>\n",
       "      <td>6.0</td>\n",
       "      <td>4.0</td>\n",
       "      <td>0.0</td>\n",
       "      <td>CC(C)(CC(c1ccc(F)cc1)c1ccc(F)cc1)NC[C@H](O)c1c...</td>\n",
       "    </tr>\n",
       "  </tbody>\n",
       "</table>\n",
       "<p>2084588 rows × 19 columns</p>\n",
       "</div>"
      ],
      "text/plain": [
       "             chembl_id  mw_freebase  alogp     psa  rtb  cx_most_apka  \\\n",
       "0           CHEMBL6329       341.75   2.11   84.82  3.0          6.48   \n",
       "1           CHEMBL6328       332.32   1.33  108.61  3.0          6.33   \n",
       "2         CHEMBL265667       357.80   2.27   87.98  3.0          6.33   \n",
       "3           CHEMBL6362       307.31   1.46   84.82  3.0          6.33   \n",
       "4         CHEMBL267864       341.75   2.11   84.82  3.0          6.33   \n",
       "...                ...          ...    ...     ...  ...           ...   \n",
       "2084719  CHEMBL4651250       556.38    NaN     NaN  NaN           NaN   \n",
       "2084720  CHEMBL4651251       378.30   3.13   58.36  5.0           NaN   \n",
       "2084721  CHEMBL4651252       356.42   2.29   90.82  7.0          9.18   \n",
       "2084722  CHEMBL4651253      1023.94    NaN     NaN  NaN           NaN   \n",
       "2084723  CHEMBL4651254       482.53   4.63   90.82  8.0          9.19   \n",
       "\n",
       "         cx_most_bpka  cx_logp  cx_logd molecular_species  full_mwt  \\\n",
       "0                 NaN     3.63     2.69              ACID    341.75   \n",
       "1                 NaN     2.88     1.82              ACID    332.32   \n",
       "2                 NaN     3.70     2.64              ACID    357.80   \n",
       "3                 NaN     3.02     1.97              ACID    307.31   \n",
       "4                 NaN     3.63     2.57              ACID    341.75   \n",
       "...               ...      ...      ...               ...       ...   \n",
       "2084719           NaN      NaN      NaN              None    556.38   \n",
       "2084720          9.33     2.96     0.43              BASE    378.30   \n",
       "2084721          9.79     1.64     0.31              BASE    356.42   \n",
       "2084722           NaN      NaN      NaN              None   1023.94   \n",
       "2084723          9.99     3.45     2.04              BASE    482.53   \n",
       "\n",
       "         aromatic_rings  heavy_atoms  qed_weighted  mw_monoisotopic  \\\n",
       "0                   3.0         24.0          0.74         341.0567   \n",
       "1                   3.0         25.0          0.73         332.0909   \n",
       "2                   3.0         25.0          0.75         357.0880   \n",
       "3                   3.0         23.0          0.74         307.0957   \n",
       "4                   3.0         24.0          0.74         341.0567   \n",
       "...                 ...          ...           ...              ...   \n",
       "2084719             NaN          NaN           NaN         556.2055   \n",
       "2084720             2.0         25.0          0.84         377.1062   \n",
       "2084721             2.0         26.0          0.57         356.1736   \n",
       "2084722             NaN          NaN           NaN        1023.2919   \n",
       "2084723             3.0         35.0          0.38         482.2017   \n",
       "\n",
       "         hba_lipinski  hbd_lipinski  num_lipinski_ro5_violations  \\\n",
       "0                 6.0           1.0                          0.0   \n",
       "1                 7.0           1.0                          0.0   \n",
       "2                 6.0           2.0                          0.0   \n",
       "3                 6.0           1.0                          0.0   \n",
       "4                 6.0           1.0                          0.0   \n",
       "...               ...           ...                          ...   \n",
       "2084719           NaN           NaN                          NaN   \n",
       "2084720           4.0           3.0                          0.0   \n",
       "2084721           6.0           4.0                          0.0   \n",
       "2084722           NaN           NaN                          NaN   \n",
       "2084723           6.0           4.0                          0.0   \n",
       "\n",
       "                                          canonical_smiles  \n",
       "0             Cc1cc(-n2ncc(=O)[nH]c2=O)ccc1C(=O)c1ccccc1Cl  \n",
       "1          Cc1cc(-n2ncc(=O)[nH]c2=O)ccc1C(=O)c1ccc(C#N)cc1  \n",
       "2         Cc1cc(-n2ncc(=O)[nH]c2=O)cc(C)c1C(O)c1ccc(Cl)cc1  \n",
       "3             Cc1ccc(C(=O)c2ccc(-n3ncc(=O)[nH]c3=O)cc2)cc1  \n",
       "4           Cc1cc(-n2ncc(=O)[nH]c2=O)ccc1C(=O)c1ccc(Cl)cc1  \n",
       "...                                                    ...  \n",
       "2084719  COc1ccc([P+](CCC(=O)Nc2ccc3c(c2)B(O)OC3)(c2ccc...  \n",
       "2084720   CNCc1ccc2c(c1)CN(C(=O)[C@H](N)Cc1ccc(Cl)cc1Cl)C2  \n",
       "2084721          Cc1ccc(CCCNCC(O)c2cc(O)cc3c2OCC(=O)N3)cc1  \n",
       "2084722  CCCCCCCCCCCCCCCCOC(=O)Oc1ccc(COP(=O)(OCc2ccc(O...  \n",
       "2084723  CC(C)(CC(c1ccc(F)cc1)c1ccc(F)cc1)NC[C@H](O)c1c...  \n",
       "\n",
       "[2084588 rows x 19 columns]"
      ]
     },
     "execution_count": 9,
     "metadata": {},
     "output_type": "execute_result"
    }
   ],
   "source": [
    "molregno_chembl_id = molregno_chembl_id.drop(labels=index_duplicates, axis=0)\n",
    "molregno_chembl_id"
   ]
  },
  {
   "cell_type": "code",
   "execution_count": 10,
   "metadata": {},
   "outputs": [
    {
     "data": {
      "text/plain": [
       "2084588"
      ]
     },
     "execution_count": 10,
     "metadata": {},
     "output_type": "execute_result"
    }
   ],
   "source": [
    "con_out = sqlite3.connect(\"../data/propriedades.db\")\n",
    "molregno_chembl_id.to_sql(\"dados\", con_out)"
   ]
  },
  {
   "cell_type": "code",
   "execution_count": 10,
   "metadata": {
    "scrolled": true
   },
   "outputs": [],
   "source": [
    "ids_com_nan = molregno_chembl_id.loc[molregno_chembl_id.isnull().any(axis=1)][['chembl_id', 'canonical_smiles']]"
   ]
  },
  {
   "cell_type": "code",
   "execution_count": 11,
   "metadata": {
    "scrolled": true
   },
   "outputs": [
    {
     "data": {
      "text/html": [
       "<div>\n",
       "<style scoped>\n",
       "    .dataframe tbody tr th:only-of-type {\n",
       "        vertical-align: middle;\n",
       "    }\n",
       "\n",
       "    .dataframe tbody tr th {\n",
       "        vertical-align: top;\n",
       "    }\n",
       "\n",
       "    .dataframe thead th {\n",
       "        text-align: right;\n",
       "    }\n",
       "</style>\n",
       "<table border=\"1\" class=\"dataframe\">\n",
       "  <thead>\n",
       "    <tr style=\"text-align: right;\">\n",
       "      <th></th>\n",
       "      <th>chembl_id</th>\n",
       "      <th>canonical_smiles</th>\n",
       "    </tr>\n",
       "  </thead>\n",
       "  <tbody>\n",
       "    <tr>\n",
       "      <th>0</th>\n",
       "      <td>CHEMBL6329</td>\n",
       "      <td>Cc1cc(-n2ncc(=O)[nH]c2=O)ccc1C(=O)c1ccccc1Cl</td>\n",
       "    </tr>\n",
       "    <tr>\n",
       "      <th>1</th>\n",
       "      <td>CHEMBL6328</td>\n",
       "      <td>Cc1cc(-n2ncc(=O)[nH]c2=O)ccc1C(=O)c1ccc(C#N)cc1</td>\n",
       "    </tr>\n",
       "    <tr>\n",
       "      <th>2</th>\n",
       "      <td>CHEMBL265667</td>\n",
       "      <td>Cc1cc(-n2ncc(=O)[nH]c2=O)cc(C)c1C(O)c1ccc(Cl)cc1</td>\n",
       "    </tr>\n",
       "    <tr>\n",
       "      <th>3</th>\n",
       "      <td>CHEMBL6362</td>\n",
       "      <td>Cc1ccc(C(=O)c2ccc(-n3ncc(=O)[nH]c3=O)cc2)cc1</td>\n",
       "    </tr>\n",
       "    <tr>\n",
       "      <th>4</th>\n",
       "      <td>CHEMBL267864</td>\n",
       "      <td>Cc1cc(-n2ncc(=O)[nH]c2=O)ccc1C(=O)c1ccc(Cl)cc1</td>\n",
       "    </tr>\n",
       "    <tr>\n",
       "      <th>...</th>\n",
       "      <td>...</td>\n",
       "      <td>...</td>\n",
       "    </tr>\n",
       "    <tr>\n",
       "      <th>2084716</th>\n",
       "      <td>CHEMBL4651247</td>\n",
       "      <td>CN1CCN(c2cc3c(cc2F)c(=O)c(-c2nnc4sc(-c5cn(C6CC...</td>\n",
       "    </tr>\n",
       "    <tr>\n",
       "      <th>2084717</th>\n",
       "      <td>CHEMBL4651248</td>\n",
       "      <td>CN(C)C(=O)Oc1cccc(C(O)CNc2ccc(F)cc2)c1</td>\n",
       "    </tr>\n",
       "    <tr>\n",
       "      <th>2084719</th>\n",
       "      <td>CHEMBL4651250</td>\n",
       "      <td>COc1ccc([P+](CCC(=O)Nc2ccc3c(c2)B(O)OC3)(c2ccc...</td>\n",
       "    </tr>\n",
       "    <tr>\n",
       "      <th>2084720</th>\n",
       "      <td>CHEMBL4651251</td>\n",
       "      <td>CNCc1ccc2c(c1)CN(C(=O)[C@H](N)Cc1ccc(Cl)cc1Cl)C2</td>\n",
       "    </tr>\n",
       "    <tr>\n",
       "      <th>2084722</th>\n",
       "      <td>CHEMBL4651253</td>\n",
       "      <td>CCCCCCCCCCCCCCCCOC(=O)Oc1ccc(COP(=O)(OCc2ccc(O...</td>\n",
       "    </tr>\n",
       "  </tbody>\n",
       "</table>\n",
       "<p>1389314 rows × 2 columns</p>\n",
       "</div>"
      ],
      "text/plain": [
       "             chembl_id                                   canonical_smiles\n",
       "0           CHEMBL6329       Cc1cc(-n2ncc(=O)[nH]c2=O)ccc1C(=O)c1ccccc1Cl\n",
       "1           CHEMBL6328    Cc1cc(-n2ncc(=O)[nH]c2=O)ccc1C(=O)c1ccc(C#N)cc1\n",
       "2         CHEMBL265667   Cc1cc(-n2ncc(=O)[nH]c2=O)cc(C)c1C(O)c1ccc(Cl)cc1\n",
       "3           CHEMBL6362       Cc1ccc(C(=O)c2ccc(-n3ncc(=O)[nH]c3=O)cc2)cc1\n",
       "4         CHEMBL267864     Cc1cc(-n2ncc(=O)[nH]c2=O)ccc1C(=O)c1ccc(Cl)cc1\n",
       "...                ...                                                ...\n",
       "2084716  CHEMBL4651247  CN1CCN(c2cc3c(cc2F)c(=O)c(-c2nnc4sc(-c5cn(C6CC...\n",
       "2084717  CHEMBL4651248             CN(C)C(=O)Oc1cccc(C(O)CNc2ccc(F)cc2)c1\n",
       "2084719  CHEMBL4651250  COc1ccc([P+](CCC(=O)Nc2ccc3c(c2)B(O)OC3)(c2ccc...\n",
       "2084720  CHEMBL4651251   CNCc1ccc2c(c1)CN(C(=O)[C@H](N)Cc1ccc(Cl)cc1Cl)C2\n",
       "2084722  CHEMBL4651253  CCCCCCCCCCCCCCCCOC(=O)Oc1ccc(COP(=O)(OCc2ccc(O...\n",
       "\n",
       "[1389314 rows x 2 columns]"
      ]
     },
     "execution_count": 11,
     "metadata": {},
     "output_type": "execute_result"
    }
   ],
   "source": [
    "ids_com_nan"
   ]
  },
  {
   "cell_type": "code",
   "execution_count": 12,
   "metadata": {},
   "outputs": [
    {
     "data": {
      "text/plain": [
       "1389314"
      ]
     },
     "execution_count": 12,
     "metadata": {},
     "output_type": "execute_result"
    }
   ],
   "source": [
    "len(ids_com_nan)"
   ]
  },
  {
   "cell_type": "code",
   "execution_count": 15,
   "metadata": {},
   "outputs": [],
   "source": [
    "def chama_atualiza_in_sql(ids_com_nan, dataframe, nome_table, con_dir, quantidades, threads_num):\n",
    "  log = open(\"arquivo.log\", \"a\")\n",
    "  log.write(\"Começou\\n\")\n",
    "  log.close()\n",
    "  for i in range(quantidades):\n",
    "    log = open(\"arquivo.log\", \"a\")\n",
    "    print(f\"Parte {i + 1} de {quantidades}\\n\")\n",
    "    log.write(f\"Parte {i + 1} de {quantidades}\\n\")\n",
    "    log.close()\n",
    "    tamanho_ini = int(i * len(ids_com_nan)/quantidades)\n",
    "    tamanho_fim = int((i + 1) * len(ids_com_nan)/quantidades)\n",
    "    atualiza_data_frame_com_lipinski_in_sql(ids_com_nan.iloc[tamanho_ini:tamanho_fim], dataframe, nome_table, con_dir, threads_num)\n",
    "  log = open(\"arquivo.log\", \"a\")\n",
    "  print(tamanho)\n",
    "  log.write(\"Terminou\\n\")\n",
    "  log.close()"
   ]
  },
  {
   "cell_type": "code",
   "execution_count": 16,
   "metadata": {},
   "outputs": [
    {
     "name": "stdout",
     "output_type": "stream",
     "text": [
      "Parte 1 de 57\n",
      "\n",
      "Parte 2 de 57\n",
      "\n",
      "Parte 3 de 57\n",
      "\n",
      "Parte 4 de 57\n",
      "\n",
      "Parte 5 de 57\n",
      "\n",
      "Parte 6 de 57\n",
      "\n",
      "Parte 7 de 57\n",
      "\n",
      "Parte 8 de 57\n",
      "\n",
      "Parte 9 de 57\n",
      "\n",
      "Parte 10 de 57\n",
      "\n",
      "Parte 11 de 57\n",
      "\n",
      "Parte 12 de 57\n",
      "\n",
      "Parte 13 de 57\n",
      "\n",
      "Parte 14 de 57\n",
      "\n",
      "Parte 15 de 57\n",
      "\n",
      "Parte 16 de 57\n",
      "\n",
      "Parte 17 de 57\n",
      "\n",
      "Parte 18 de 57\n",
      "\n",
      "Parte 19 de 57\n",
      "\n",
      "Parte 20 de 57\n",
      "\n",
      "Parte 21 de 57\n",
      "\n",
      "Parte 22 de 57\n",
      "\n",
      "Parte 23 de 57\n",
      "\n",
      "Parte 24 de 57\n",
      "\n",
      "Parte 25 de 57\n",
      "\n",
      "Parte 26 de 57\n",
      "\n",
      "Parte 27 de 57\n",
      "\n",
      "Parte 28 de 57\n",
      "\n",
      "Parte 29 de 57\n",
      "\n",
      "Parte 30 de 57\n",
      "\n",
      "Parte 31 de 57\n",
      "\n",
      "Parte 32 de 57\n",
      "\n",
      "Parte 33 de 57\n",
      "\n",
      "Parte 34 de 57\n",
      "\n",
      "Parte 35 de 57\n",
      "\n",
      "Parte 36 de 57\n",
      "\n",
      "Parte 37 de 57\n",
      "\n",
      "Parte 38 de 57\n",
      "\n",
      "Parte 39 de 57\n",
      "\n",
      "Parte 40 de 57\n",
      "\n",
      "Parte 41 de 57\n",
      "\n",
      "Parte 42 de 57\n",
      "\n",
      "Parte 43 de 57\n",
      "\n",
      "Parte 44 de 57\n",
      "\n",
      "Parte 45 de 57\n",
      "\n",
      "Parte 46 de 57\n",
      "\n",
      "Parte 47 de 57\n",
      "\n",
      "Parte 48 de 57\n",
      "\n",
      "Parte 49 de 57\n",
      "\n",
      "Parte 50 de 57\n",
      "\n",
      "Parte 51 de 57\n",
      "\n",
      "Parte 52 de 57\n",
      "\n",
      "Parte 53 de 57\n",
      "\n",
      "Parte 54 de 57\n",
      "\n",
      "Parte 55 de 57\n",
      "\n",
      "Parte 56 de 57\n",
      "\n",
      "Parte 57 de 57\n",
      "\n",
      "1389314\n"
     ]
    }
   ],
   "source": [
    "chama_atualiza_in_sql(ids_com_nan, molregno_chembl_id, \"dados\", '../data/dados_att', 19*3, 19)"
   ]
  },
  {
   "cell_type": "code",
   "execution_count": null,
   "metadata": {},
   "outputs": [],
   "source": []
  },
  {
   "cell_type": "code",
   "execution_count": null,
   "metadata": {},
   "outputs": [],
   "source": []
  },
  {
   "cell_type": "code",
   "execution_count": null,
   "metadata": {},
   "outputs": [],
   "source": [
    "%%time\n",
    "quantidades = 100\n",
    "threads_num = 20\n",
    "for i in range(quantidades):\n",
    "    print(f\"Parte {i + 1} de {quantidades}\")\n",
    "    tamanho_ini = int(i * len(ids_com_nan)/quantidades)\n",
    "    tamanho_fim = int((i + 1) * len(ids_com_nan)/quantidades)\n",
    "    atualiza_data_frame_com_lipinski(ids_com_nan, molregno_chembl_id, threads_num)\n"
   ]
  },
  {
   "cell_type": "code",
   "execution_count": null,
   "metadata": {},
   "outputs": [],
   "source": [
    "con_2 = sqlite3.connect('../data/dados_atualizados.db')"
   ]
  },
  {
   "cell_type": "code",
   "execution_count": null,
   "metadata": {},
   "outputs": [],
   "source": [
    "molregno_chembl_id.to_sql('dados', con_2, if_exists='replace')"
   ]
  },
  {
   "cell_type": "code",
   "execution_count": null,
   "metadata": {},
   "outputs": [],
   "source": [
    "molregno_chembl_id"
   ]
  },
  {
   "cell_type": "code",
   "execution_count": null,
   "metadata": {},
   "outputs": [],
   "source": [
    "molregno_chembl_id.loc[(molregno_chembl_id.isnull().any(axis=1))]"
   ]
  },
  {
   "cell_type": "code",
   "execution_count": null,
   "metadata": {},
   "outputs": [],
   "source": [
    "molregno_chembl_id"
   ]
  },
  {
   "cell_type": "code",
   "execution_count": null,
   "metadata": {},
   "outputs": [],
   "source": [
    "molregno_chembl_id.query(\"molregno in @ids_com_nan\")"
   ]
  },
  {
   "cell_type": "code",
   "execution_count": null,
   "metadata": {},
   "outputs": [],
   "source": [
    "molregno_chembl_id.query(\"num_ro5_violations != num_lipinski_ro5_violations\")"
   ]
  },
  {
   "cell_type": "code",
   "execution_count": null,
   "metadata": {},
   "outputs": [],
   "source": [
    "cruzain_id = pd.read_csv('data/cruzain_id_chemb.csv')"
   ]
  },
  {
   "cell_type": "code",
   "execution_count": null,
   "metadata": {},
   "outputs": [],
   "source": [
    "cruzain_id"
   ]
  },
  {
   "cell_type": "code",
   "execution_count": null,
   "metadata": {},
   "outputs": [],
   "source": [
    "cruzain_id = cruzain_id[\"Molecule ChEMBL ID\"]\n",
    "cruzain_id"
   ]
  },
  {
   "cell_type": "code",
   "execution_count": null,
   "metadata": {},
   "outputs": [],
   "source": [
    "molregno_chembl_id = molregno_chembl_id.query(\"chembl_id in @cruzain_id\")"
   ]
  },
  {
   "cell_type": "code",
   "execution_count": null,
   "metadata": {},
   "outputs": [],
   "source": [
    "molregno_chembl_id.head()"
   ]
  },
  {
   "cell_type": "code",
   "execution_count": null,
   "metadata": {},
   "outputs": [],
   "source": [
    "pd.set_option('display.max_columns', None)"
   ]
  },
  {
   "cell_type": "code",
   "execution_count": null,
   "metadata": {},
   "outputs": [],
   "source": [
    "molregno_chembl_id.num_lipinski_ro5_violations.unique()"
   ]
  },
  {
   "cell_type": "code",
   "execution_count": null,
   "metadata": {},
   "outputs": [],
   "source": [
    "molregno_chembl_id.num_ro5_violations.unique()"
   ]
  },
  {
   "cell_type": "code",
   "execution_count": null,
   "metadata": {},
   "outputs": [],
   "source": [
    "molregno_chembl_id[molregno_chembl_id.num_lipinski_ro5_violations == molregno_chembl_id.num_ro5_violations]"
   ]
  },
  {
   "cell_type": "code",
   "execution_count": null,
   "metadata": {},
   "outputs": [],
   "source": [
    "molregno_chembl_id['ro3_pass'] = molregno_chembl_id['ro3_pass'].replace({\"Y\": 'True', \"N\": 'False'})"
   ]
  },
  {
   "cell_type": "code",
   "execution_count": null,
   "metadata": {},
   "outputs": [],
   "source": [
    "molregno_chembl_id.query(\"num_lipinski_ro5_violations == 0\")"
   ]
  },
  {
   "cell_type": "code",
   "execution_count": null,
   "metadata": {},
   "outputs": [],
   "source": [
    "molregno_chembl_id.query(\"num_lipinski_ro5_violations == 0 & ro3_pass == 'True'\")"
   ]
  },
  {
   "cell_type": "code",
   "execution_count": null,
   "metadata": {},
   "outputs": [],
   "source": [
    "import seaborn as sns\n",
    "from matplotlib import pyplot as plt\n",
    "from sklearn.cluster import KMeans\n",
    "from sklearn import preprocessing"
   ]
  },
  {
   "cell_type": "code",
   "execution_count": null,
   "metadata": {},
   "outputs": [],
   "source": [
    "prep_clust = pd.get_dummies(molregno_chembl_id.query(\"num_lipinski_ro5_violations == 0\"), columns=[\"molecular_species\"])\n",
    "tab_usada = prep_clust\n",
    "prep_clust = prep_clust.drop(['chembl_id','molregno', \"full_molformula\", \"canonical_smiles\"], axis=1)\n"
   ]
  },
  {
   "cell_type": "code",
   "execution_count": null,
   "metadata": {},
   "outputs": [],
   "source": [
    "prep_clust.head()"
   ]
  },
  {
   "cell_type": "code",
   "execution_count": null,
   "metadata": {},
   "outputs": [],
   "source": [
    "prep_clust = prep_clust.replace({np.nan: \"7\"})\n",
    "prep_clust.head()"
   ]
  },
  {
   "cell_type": "code",
   "execution_count": null,
   "metadata": {},
   "outputs": [],
   "source": [
    "x = preprocessing.normalize(prep_clust, norm='l1')\n",
    "cluster = KMeans(n_clusters=3, random_state=5)\n",
    "cluster.fit(x).labels_"
   ]
  },
  {
   "cell_type": "code",
   "execution_count": null,
   "metadata": {},
   "outputs": [],
   "source": [
    "plt.figure(figsize=(10,7))\n",
    "plt.scatter(x=prep_clust[['mw_freebase']], y=prep_clust.psa, c=cluster.fit(x).labels_, s=50)\n",
    "plt.xlabel('mw_freebase', fontsize=18)\n",
    "plt.ylabel('psa', fontsize=18)\n",
    "plt.show()"
   ]
  },
  {
   "cell_type": "code",
   "execution_count": null,
   "metadata": {},
   "outputs": [],
   "source": [
    "tab_usada['grupos_cluster_knn'] = cluster.fit(x).labels_\n",
    "tab_usada.drop([\"num_ro5_violations\", \"ro3_pass\", \"num_lipinski_ro5_violations\"], axis=1).sort_values(by='grupos_cluster_knn')"
   ]
  },
  {
   "cell_type": "code",
   "execution_count": null,
   "metadata": {},
   "outputs": [],
   "source": [
    "sns.pairplot(tab_usada[['mw_freebase', 'psa', 'grupos_cluster_knn']], hue='grupos_cluster_knn')\n"
   ]
  },
  {
   "cell_type": "code",
   "execution_count": null,
   "metadata": {},
   "outputs": [],
   "source": [
    "tab_usada['grupos_cluster_knn'] = cluster.fit(x).labels_\n",
    "tab_usada.drop([\"num_ro5_violations\", \"ro3_pass\", \"num_lipinski_ro5_violations\"], axis=1).sort_values(by='grupos_cluster_knn')"
   ]
  },
  {
   "cell_type": "code",
   "execution_count": null,
   "metadata": {},
   "outputs": [],
   "source": []
  }
 ],
 "metadata": {
  "kernelspec": {
   "display_name": "Python 3 (ipykernel)",
   "language": "python",
   "name": "python3"
  },
  "language_info": {
   "codemirror_mode": {
    "name": "ipython",
    "version": 3
   },
   "file_extension": ".py",
   "mimetype": "text/x-python",
   "name": "python",
   "nbconvert_exporter": "python",
   "pygments_lexer": "ipython3",
   "version": "3.9.10"
  }
 },
 "nbformat": 4,
 "nbformat_minor": 2
}
