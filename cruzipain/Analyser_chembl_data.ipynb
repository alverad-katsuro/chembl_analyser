{
 "cells": [
  {
   "cell_type": "code",
   "execution_count": 29,
   "metadata": {},
   "outputs": [],
   "source": [
    "# To add a new cell, type '# %%'\n",
    "# To add a new markdown cell, type '# %% [markdown]'\n",
    "# %%\n",
    "import pandas as pd\n",
    "import sqlite3\n",
    "import seaborn as sns\n",
    "from matplotlib import pyplot as plt\n",
    "from sklearn.cluster import KMeans\n",
    "from sklearn import preprocessing\n",
    "import numpy as np\n",
    "from matplotlib import pyplot as ptl\n",
    "import seaborn as sns\n",
    "import sys, os\n",
    "sys.path.append(\"../module/\")\n",
    "from lipinski import * "
   ]
  },
  {
   "cell_type": "code",
   "execution_count": 30,
   "metadata": {},
   "outputs": [],
   "source": [
    "pd.options.display.max_columns = 30"
   ]
  },
  {
   "cell_type": "code",
   "execution_count": 31,
   "metadata": {},
   "outputs": [],
   "source": [
    "con = sqlite3.connect(\"../data/chembl_29.db\")"
   ]
  },
  {
   "cell_type": "code",
   "execution_count": 32,
   "metadata": {
    "scrolled": true
   },
   "outputs": [],
   "source": [
    "molregno_chembl_id = pd.read_sql_query(\"SELECT compound_properties.*, molecule_dictionary.chembl_id, compound_structures.canonical_smiles FROM compound_properties INNER JOIN compound_structures ON compound_structures.molregno=compound_properties.molregno INNER JOIN molecule_dictionary ON molecule_dictionary.molregno=compound_properties.molregno;\", con)"
   ]
  },
  {
   "cell_type": "code",
   "execution_count": 33,
   "metadata": {
    "scrolled": true
   },
   "outputs": [],
   "source": [
    "molregno_chembl_id = molregno_chembl_id.drop(['ro3_pass', 'hba', 'hbd', 'num_ro5_violations', 'full_molformula'], axis=1)"
   ]
  },
  {
   "cell_type": "code",
   "execution_count": 34,
   "metadata": {
    "scrolled": true
   },
   "outputs": [],
   "source": [
    "molregno_chembl_id = pd.merge(molregno_chembl_id.chembl_id, molregno_chembl_id)"
   ]
  },
  {
   "cell_type": "code",
   "execution_count": 35,
   "metadata": {},
   "outputs": [],
   "source": [
    "molregno_chembl_id = molregno_chembl_id.drop(['molregno'], axis=1)"
   ]
  },
  {
   "cell_type": "code",
   "execution_count": 45,
   "metadata": {},
   "outputs": [],
   "source": [
    "molregno_chembl_id = molregno_chembl_id.sort_values(by='psa').iloc[len(molregno_chembl_id) - 300:len(molregno_chembl_id), :]"
   ]
  },
  {
   "cell_type": "code",
   "execution_count": 46,
   "metadata": {},
   "outputs": [],
   "source": [
    "index_duplicates = molregno_chembl_id[molregno_chembl_id.canonical_smiles.duplicated()].sort_values(by=['canonical_smiles']).index"
   ]
  },
  {
   "cell_type": "code",
   "execution_count": 47,
   "metadata": {},
   "outputs": [
    {
     "data": {
      "text/plain": [
       "300"
      ]
     },
     "execution_count": 47,
     "metadata": {},
     "output_type": "execute_result"
    }
   ],
   "source": [
    "len(molregno_chembl_id)"
   ]
  },
  {
   "cell_type": "code",
   "execution_count": 48,
   "metadata": {},
   "outputs": [
    {
     "data": {
      "text/html": [
       "<div>\n",
       "<style scoped>\n",
       "    .dataframe tbody tr th:only-of-type {\n",
       "        vertical-align: middle;\n",
       "    }\n",
       "\n",
       "    .dataframe tbody tr th {\n",
       "        vertical-align: top;\n",
       "    }\n",
       "\n",
       "    .dataframe thead th {\n",
       "        text-align: right;\n",
       "    }\n",
       "</style>\n",
       "<table border=\"1\" class=\"dataframe\">\n",
       "  <thead>\n",
       "    <tr style=\"text-align: right;\">\n",
       "      <th></th>\n",
       "      <th>chembl_id</th>\n",
       "      <th>mw_freebase</th>\n",
       "      <th>alogp</th>\n",
       "      <th>psa</th>\n",
       "      <th>rtb</th>\n",
       "      <th>cx_most_apka</th>\n",
       "      <th>cx_most_bpka</th>\n",
       "      <th>cx_logp</th>\n",
       "      <th>cx_logd</th>\n",
       "      <th>molecular_species</th>\n",
       "      <th>full_mwt</th>\n",
       "      <th>aromatic_rings</th>\n",
       "      <th>heavy_atoms</th>\n",
       "      <th>qed_weighted</th>\n",
       "      <th>mw_monoisotopic</th>\n",
       "      <th>hba_lipinski</th>\n",
       "      <th>hbd_lipinski</th>\n",
       "      <th>num_lipinski_ro5_violations</th>\n",
       "      <th>canonical_smiles</th>\n",
       "    </tr>\n",
       "  </thead>\n",
       "  <tbody>\n",
       "    <tr>\n",
       "      <th>2080164</th>\n",
       "      <td>CHEMBL4646183</td>\n",
       "      <td>1471.76</td>\n",
       "      <td>NaN</td>\n",
       "      <td>NaN</td>\n",
       "      <td>NaN</td>\n",
       "      <td>NaN</td>\n",
       "      <td>NaN</td>\n",
       "      <td>NaN</td>\n",
       "      <td>NaN</td>\n",
       "      <td>None</td>\n",
       "      <td>1471.76</td>\n",
       "      <td>NaN</td>\n",
       "      <td>NaN</td>\n",
       "      <td>NaN</td>\n",
       "      <td>1470.7470</td>\n",
       "      <td>NaN</td>\n",
       "      <td>NaN</td>\n",
       "      <td>NaN</td>\n",
       "      <td>CCN(CC)c1ccc2c(-c3ccccc3C(=O)N(C)CCCC(=O)N[C@H...</td>\n",
       "    </tr>\n",
       "    <tr>\n",
       "      <th>2080206</th>\n",
       "      <td>CHEMBL4646225</td>\n",
       "      <td>410.24</td>\n",
       "      <td>NaN</td>\n",
       "      <td>NaN</td>\n",
       "      <td>NaN</td>\n",
       "      <td>NaN</td>\n",
       "      <td>NaN</td>\n",
       "      <td>NaN</td>\n",
       "      <td>NaN</td>\n",
       "      <td>None</td>\n",
       "      <td>410.24</td>\n",
       "      <td>NaN</td>\n",
       "      <td>NaN</td>\n",
       "      <td>NaN</td>\n",
       "      <td>410.0414</td>\n",
       "      <td>NaN</td>\n",
       "      <td>NaN</td>\n",
       "      <td>NaN</td>\n",
       "      <td>COc1ccc2c(c1C(=O)OCOC(C)=O)OB(O)[C@@H](Sc1nncs...</td>\n",
       "    </tr>\n",
       "    <tr>\n",
       "      <th>2080273</th>\n",
       "      <td>CHEMBL4646292</td>\n",
       "      <td>390.73</td>\n",
       "      <td>NaN</td>\n",
       "      <td>NaN</td>\n",
       "      <td>NaN</td>\n",
       "      <td>NaN</td>\n",
       "      <td>NaN</td>\n",
       "      <td>NaN</td>\n",
       "      <td>NaN</td>\n",
       "      <td>None</td>\n",
       "      <td>390.73</td>\n",
       "      <td>NaN</td>\n",
       "      <td>NaN</td>\n",
       "      <td>NaN</td>\n",
       "      <td>390.9878</td>\n",
       "      <td>NaN</td>\n",
       "      <td>NaN</td>\n",
       "      <td>NaN</td>\n",
       "      <td>CCOC(=O)c1cc([Se]c2ccccc2)c2cc(Cl)ccc2n1</td>\n",
       "    </tr>\n",
       "    <tr>\n",
       "      <th>2080285</th>\n",
       "      <td>CHEMBL4646304</td>\n",
       "      <td>1064.42</td>\n",
       "      <td>NaN</td>\n",
       "      <td>NaN</td>\n",
       "      <td>NaN</td>\n",
       "      <td>NaN</td>\n",
       "      <td>NaN</td>\n",
       "      <td>NaN</td>\n",
       "      <td>NaN</td>\n",
       "      <td>None</td>\n",
       "      <td>1064.42</td>\n",
       "      <td>NaN</td>\n",
       "      <td>NaN</td>\n",
       "      <td>NaN</td>\n",
       "      <td>1063.7369</td>\n",
       "      <td>NaN</td>\n",
       "      <td>NaN</td>\n",
       "      <td>NaN</td>\n",
       "      <td>CCCCCCCC[C@H](NC(=O)C(C)(C)NC(=O)C(C)(C)NC(=O)...</td>\n",
       "    </tr>\n",
       "    <tr>\n",
       "      <th>2080332</th>\n",
       "      <td>CHEMBL4646351</td>\n",
       "      <td>1116.54</td>\n",
       "      <td>NaN</td>\n",
       "      <td>NaN</td>\n",
       "      <td>NaN</td>\n",
       "      <td>NaN</td>\n",
       "      <td>NaN</td>\n",
       "      <td>NaN</td>\n",
       "      <td>NaN</td>\n",
       "      <td>None</td>\n",
       "      <td>1116.54</td>\n",
       "      <td>NaN</td>\n",
       "      <td>NaN</td>\n",
       "      <td>NaN</td>\n",
       "      <td>1115.8046</td>\n",
       "      <td>NaN</td>\n",
       "      <td>NaN</td>\n",
       "      <td>NaN</td>\n",
       "      <td>CCCCCCCC[C@H](NC(=O)C(C)(C)NC(=O)C(C)(C)NC(=O)...</td>\n",
       "    </tr>\n",
       "    <tr>\n",
       "      <th>...</th>\n",
       "      <td>...</td>\n",
       "      <td>...</td>\n",
       "      <td>...</td>\n",
       "      <td>...</td>\n",
       "      <td>...</td>\n",
       "      <td>...</td>\n",
       "      <td>...</td>\n",
       "      <td>...</td>\n",
       "      <td>...</td>\n",
       "      <td>...</td>\n",
       "      <td>...</td>\n",
       "      <td>...</td>\n",
       "      <td>...</td>\n",
       "      <td>...</td>\n",
       "      <td>...</td>\n",
       "      <td>...</td>\n",
       "      <td>...</td>\n",
       "      <td>...</td>\n",
       "      <td>...</td>\n",
       "    </tr>\n",
       "    <tr>\n",
       "      <th>2084598</th>\n",
       "      <td>CHEMBL4651129</td>\n",
       "      <td>1021.31</td>\n",
       "      <td>NaN</td>\n",
       "      <td>NaN</td>\n",
       "      <td>NaN</td>\n",
       "      <td>NaN</td>\n",
       "      <td>NaN</td>\n",
       "      <td>NaN</td>\n",
       "      <td>NaN</td>\n",
       "      <td>None</td>\n",
       "      <td>1021.31</td>\n",
       "      <td>NaN</td>\n",
       "      <td>NaN</td>\n",
       "      <td>NaN</td>\n",
       "      <td>1020.5749</td>\n",
       "      <td>NaN</td>\n",
       "      <td>NaN</td>\n",
       "      <td>NaN</td>\n",
       "      <td>CC[C@H]1CCC[C@H](O[C@H]2CC[C@H](N(C)CCC[P+](c3...</td>\n",
       "    </tr>\n",
       "    <tr>\n",
       "      <th>2084601</th>\n",
       "      <td>CHEMBL4651132</td>\n",
       "      <td>1109.47</td>\n",
       "      <td>NaN</td>\n",
       "      <td>NaN</td>\n",
       "      <td>NaN</td>\n",
       "      <td>NaN</td>\n",
       "      <td>NaN</td>\n",
       "      <td>NaN</td>\n",
       "      <td>NaN</td>\n",
       "      <td>None</td>\n",
       "      <td>1109.47</td>\n",
       "      <td>NaN</td>\n",
       "      <td>NaN</td>\n",
       "      <td>NaN</td>\n",
       "      <td>1108.5377</td>\n",
       "      <td>NaN</td>\n",
       "      <td>NaN</td>\n",
       "      <td>NaN</td>\n",
       "      <td>CC1(C)C(/C=C/C=C/C=C2\\N(CCCCCC(=O)NCCCCCCNc3c(...</td>\n",
       "    </tr>\n",
       "    <tr>\n",
       "      <th>2084607</th>\n",
       "      <td>CHEMBL4651138</td>\n",
       "      <td>3284.93</td>\n",
       "      <td>NaN</td>\n",
       "      <td>NaN</td>\n",
       "      <td>NaN</td>\n",
       "      <td>NaN</td>\n",
       "      <td>NaN</td>\n",
       "      <td>NaN</td>\n",
       "      <td>NaN</td>\n",
       "      <td>None</td>\n",
       "      <td>3284.93</td>\n",
       "      <td>NaN</td>\n",
       "      <td>NaN</td>\n",
       "      <td>NaN</td>\n",
       "      <td>3282.8190</td>\n",
       "      <td>NaN</td>\n",
       "      <td>NaN</td>\n",
       "      <td>NaN</td>\n",
       "      <td>CC[C@H](C)[C@H](NC(=O)[C@H](Cc1ccc(O)cc1)NC(=O...</td>\n",
       "    </tr>\n",
       "    <tr>\n",
       "      <th>2084719</th>\n",
       "      <td>CHEMBL4651250</td>\n",
       "      <td>556.38</td>\n",
       "      <td>NaN</td>\n",
       "      <td>NaN</td>\n",
       "      <td>NaN</td>\n",
       "      <td>NaN</td>\n",
       "      <td>NaN</td>\n",
       "      <td>NaN</td>\n",
       "      <td>NaN</td>\n",
       "      <td>None</td>\n",
       "      <td>556.38</td>\n",
       "      <td>NaN</td>\n",
       "      <td>NaN</td>\n",
       "      <td>NaN</td>\n",
       "      <td>556.2055</td>\n",
       "      <td>NaN</td>\n",
       "      <td>NaN</td>\n",
       "      <td>NaN</td>\n",
       "      <td>COc1ccc([P+](CCC(=O)Nc2ccc3c(c2)B(O)OC3)(c2ccc...</td>\n",
       "    </tr>\n",
       "    <tr>\n",
       "      <th>2084722</th>\n",
       "      <td>CHEMBL4651253</td>\n",
       "      <td>1023.94</td>\n",
       "      <td>NaN</td>\n",
       "      <td>NaN</td>\n",
       "      <td>NaN</td>\n",
       "      <td>NaN</td>\n",
       "      <td>NaN</td>\n",
       "      <td>NaN</td>\n",
       "      <td>NaN</td>\n",
       "      <td>None</td>\n",
       "      <td>1023.94</td>\n",
       "      <td>NaN</td>\n",
       "      <td>NaN</td>\n",
       "      <td>NaN</td>\n",
       "      <td>1023.2919</td>\n",
       "      <td>NaN</td>\n",
       "      <td>NaN</td>\n",
       "      <td>NaN</td>\n",
       "      <td>CCCCCCCCCCCCCCCCOC(=O)Oc1ccc(COP(=O)(OCc2ccc(O...</td>\n",
       "    </tr>\n",
       "  </tbody>\n",
       "</table>\n",
       "<p>300 rows × 19 columns</p>\n",
       "</div>"
      ],
      "text/plain": [
       "             chembl_id  mw_freebase  alogp  psa  rtb  cx_most_apka  \\\n",
       "2080164  CHEMBL4646183      1471.76    NaN  NaN  NaN           NaN   \n",
       "2080206  CHEMBL4646225       410.24    NaN  NaN  NaN           NaN   \n",
       "2080273  CHEMBL4646292       390.73    NaN  NaN  NaN           NaN   \n",
       "2080285  CHEMBL4646304      1064.42    NaN  NaN  NaN           NaN   \n",
       "2080332  CHEMBL4646351      1116.54    NaN  NaN  NaN           NaN   \n",
       "...                ...          ...    ...  ...  ...           ...   \n",
       "2084598  CHEMBL4651129      1021.31    NaN  NaN  NaN           NaN   \n",
       "2084601  CHEMBL4651132      1109.47    NaN  NaN  NaN           NaN   \n",
       "2084607  CHEMBL4651138      3284.93    NaN  NaN  NaN           NaN   \n",
       "2084719  CHEMBL4651250       556.38    NaN  NaN  NaN           NaN   \n",
       "2084722  CHEMBL4651253      1023.94    NaN  NaN  NaN           NaN   \n",
       "\n",
       "         cx_most_bpka  cx_logp  cx_logd molecular_species  full_mwt  \\\n",
       "2080164           NaN      NaN      NaN              None   1471.76   \n",
       "2080206           NaN      NaN      NaN              None    410.24   \n",
       "2080273           NaN      NaN      NaN              None    390.73   \n",
       "2080285           NaN      NaN      NaN              None   1064.42   \n",
       "2080332           NaN      NaN      NaN              None   1116.54   \n",
       "...               ...      ...      ...               ...       ...   \n",
       "2084598           NaN      NaN      NaN              None   1021.31   \n",
       "2084601           NaN      NaN      NaN              None   1109.47   \n",
       "2084607           NaN      NaN      NaN              None   3284.93   \n",
       "2084719           NaN      NaN      NaN              None    556.38   \n",
       "2084722           NaN      NaN      NaN              None   1023.94   \n",
       "\n",
       "         aromatic_rings  heavy_atoms  qed_weighted  mw_monoisotopic  \\\n",
       "2080164             NaN          NaN           NaN        1470.7470   \n",
       "2080206             NaN          NaN           NaN         410.0414   \n",
       "2080273             NaN          NaN           NaN         390.9878   \n",
       "2080285             NaN          NaN           NaN        1063.7369   \n",
       "2080332             NaN          NaN           NaN        1115.8046   \n",
       "...                 ...          ...           ...              ...   \n",
       "2084598             NaN          NaN           NaN        1020.5749   \n",
       "2084601             NaN          NaN           NaN        1108.5377   \n",
       "2084607             NaN          NaN           NaN        3282.8190   \n",
       "2084719             NaN          NaN           NaN         556.2055   \n",
       "2084722             NaN          NaN           NaN        1023.2919   \n",
       "\n",
       "         hba_lipinski  hbd_lipinski  num_lipinski_ro5_violations  \\\n",
       "2080164           NaN           NaN                          NaN   \n",
       "2080206           NaN           NaN                          NaN   \n",
       "2080273           NaN           NaN                          NaN   \n",
       "2080285           NaN           NaN                          NaN   \n",
       "2080332           NaN           NaN                          NaN   \n",
       "...               ...           ...                          ...   \n",
       "2084598           NaN           NaN                          NaN   \n",
       "2084601           NaN           NaN                          NaN   \n",
       "2084607           NaN           NaN                          NaN   \n",
       "2084719           NaN           NaN                          NaN   \n",
       "2084722           NaN           NaN                          NaN   \n",
       "\n",
       "                                          canonical_smiles  \n",
       "2080164  CCN(CC)c1ccc2c(-c3ccccc3C(=O)N(C)CCCC(=O)N[C@H...  \n",
       "2080206  COc1ccc2c(c1C(=O)OCOC(C)=O)OB(O)[C@@H](Sc1nncs...  \n",
       "2080273           CCOC(=O)c1cc([Se]c2ccccc2)c2cc(Cl)ccc2n1  \n",
       "2080285  CCCCCCCC[C@H](NC(=O)C(C)(C)NC(=O)C(C)(C)NC(=O)...  \n",
       "2080332  CCCCCCCC[C@H](NC(=O)C(C)(C)NC(=O)C(C)(C)NC(=O)...  \n",
       "...                                                    ...  \n",
       "2084598  CC[C@H]1CCC[C@H](O[C@H]2CC[C@H](N(C)CCC[P+](c3...  \n",
       "2084601  CC1(C)C(/C=C/C=C/C=C2\\N(CCCCCC(=O)NCCCCCCNc3c(...  \n",
       "2084607  CC[C@H](C)[C@H](NC(=O)[C@H](Cc1ccc(O)cc1)NC(=O...  \n",
       "2084719  COc1ccc([P+](CCC(=O)Nc2ccc3c(c2)B(O)OC3)(c2ccc...  \n",
       "2084722  CCCCCCCCCCCCCCCCOC(=O)Oc1ccc(COP(=O)(OCc2ccc(O...  \n",
       "\n",
       "[300 rows x 19 columns]"
      ]
     },
     "execution_count": 48,
     "metadata": {},
     "output_type": "execute_result"
    }
   ],
   "source": [
    "molregno_chembl_id = molregno_chembl_id.drop(labels=index_duplicates, axis=0)\n",
    "molregno_chembl_id"
   ]
  },
  {
   "cell_type": "code",
   "execution_count": 49,
   "metadata": {},
   "outputs": [],
   "source": [
    "connn = sqlite3.connect('dados_teste.db')\n",
    "molregno_chembl_id.to_sql('dados_teste', connn, if_exists='replace', index = False)"
   ]
  },
  {
   "cell_type": "code",
   "execution_count": null,
   "metadata": {
    "scrolled": true
   },
   "outputs": [],
   "source": [
    "ids_com_nan = molregno_chembl_id.loc[molregno_chembl_id.isnull().any(axis=1)][['chembl_id', 'canonical_smiles']]"
   ]
  },
  {
   "cell_type": "code",
   "execution_count": null,
   "metadata": {
    "scrolled": true
   },
   "outputs": [],
   "source": [
    "ids_com_nan"
   ]
  },
  {
   "cell_type": "code",
   "execution_count": null,
   "metadata": {},
   "outputs": [],
   "source": []
  },
  {
   "cell_type": "code",
   "execution_count": null,
   "metadata": {},
   "outputs": [],
   "source": [
    "atualiza_data_frame_com_lipinski(molregno_chembl_id, ids_com_nan, 1)"
   ]
  },
  {
   "cell_type": "code",
   "execution_count": null,
   "metadata": {},
   "outputs": [],
   "source": [
    "#or chemb, smiles in zip(ids_com_nan.chembl_id, ids_com_nan.canonical_smiles):\n",
    " #   propriedades = verifica_lipinsky(smiles)\n",
    " ##   for key in propriedades.keys():\n",
    "  #      molregno_chembl_id.loc[molregno_chembl_id.chembl_id == chemb, key] = propriedades[key]"
   ]
  },
  {
   "cell_type": "code",
   "execution_count": null,
   "metadata": {},
   "outputs": [],
   "source": [
    "molregno_chembl_id"
   ]
  },
  {
   "cell_type": "code",
   "execution_count": null,
   "metadata": {},
   "outputs": [],
   "source": [
    "molregno_chembl_id.loc[(molregno_chembl_id.isnull().any(axis=1))]"
   ]
  },
  {
   "cell_type": "code",
   "execution_count": null,
   "metadata": {},
   "outputs": [],
   "source": [
    "molregno_chembl_id"
   ]
  },
  {
   "cell_type": "code",
   "execution_count": null,
   "metadata": {},
   "outputs": [],
   "source": [
    "molregno_chembl_id.query(\"molregno in @ids_com_nan\")"
   ]
  },
  {
   "cell_type": "code",
   "execution_count": null,
   "metadata": {},
   "outputs": [],
   "source": [
    "molregno_chembl_id.query(\"num_ro5_violations != num_lipinski_ro5_violations\")"
   ]
  },
  {
   "cell_type": "code",
   "execution_count": null,
   "metadata": {},
   "outputs": [],
   "source": [
    "cruzain_id = pd.read_csv('data/cruzain_id_chemb.csv')"
   ]
  },
  {
   "cell_type": "code",
   "execution_count": null,
   "metadata": {},
   "outputs": [],
   "source": [
    "cruzain_id"
   ]
  },
  {
   "cell_type": "code",
   "execution_count": null,
   "metadata": {},
   "outputs": [],
   "source": [
    "cruzain_id = cruzain_id[\"Molecule ChEMBL ID\"]\n",
    "cruzain_id"
   ]
  },
  {
   "cell_type": "code",
   "execution_count": null,
   "metadata": {},
   "outputs": [],
   "source": [
    "molregno_chembl_id = molregno_chembl_id.query(\"chembl_id in @cruzain_id\")"
   ]
  },
  {
   "cell_type": "code",
   "execution_count": null,
   "metadata": {},
   "outputs": [],
   "source": [
    "molregno_chembl_id.head()"
   ]
  },
  {
   "cell_type": "code",
   "execution_count": null,
   "metadata": {},
   "outputs": [],
   "source": [
    "pd.set_option('display.max_columns', None)"
   ]
  },
  {
   "cell_type": "code",
   "execution_count": null,
   "metadata": {},
   "outputs": [],
   "source": [
    "molregno_chembl_id.num_lipinski_ro5_violations.unique()"
   ]
  },
  {
   "cell_type": "code",
   "execution_count": null,
   "metadata": {},
   "outputs": [],
   "source": [
    "molregno_chembl_id.num_ro5_violations.unique()"
   ]
  },
  {
   "cell_type": "code",
   "execution_count": null,
   "metadata": {},
   "outputs": [],
   "source": [
    "molregno_chembl_id[molregno_chembl_id.num_lipinski_ro5_violations == molregno_chembl_id.num_ro5_violations]"
   ]
  },
  {
   "cell_type": "code",
   "execution_count": null,
   "metadata": {},
   "outputs": [],
   "source": [
    "molregno_chembl_id['ro3_pass'] = molregno_chembl_id['ro3_pass'].replace({\"Y\": 'True', \"N\": 'False'})"
   ]
  },
  {
   "cell_type": "code",
   "execution_count": null,
   "metadata": {},
   "outputs": [],
   "source": [
    "molregno_chembl_id.query(\"num_lipinski_ro5_violations == 0\")"
   ]
  },
  {
   "cell_type": "code",
   "execution_count": null,
   "metadata": {},
   "outputs": [],
   "source": [
    "molregno_chembl_id.query(\"num_lipinski_ro5_violations == 0 & ro3_pass == 'True'\")"
   ]
  },
  {
   "cell_type": "code",
   "execution_count": null,
   "metadata": {},
   "outputs": [],
   "source": [
    "prep_clust = pd.get_dummies(molregno_chembl_id.query(\"num_lipinski_ro5_violations == 0\"), columns=[\"molecular_species\"])\n",
    "tab_usada = prep_clust\n",
    "prep_clust = prep_clust.drop(['chembl_id','molregno', \"full_molformula\", \"canonical_smiles\"], axis=1)\n"
   ]
  },
  {
   "cell_type": "code",
   "execution_count": null,
   "metadata": {},
   "outputs": [],
   "source": [
    "prep_clust.head()"
   ]
  },
  {
   "cell_type": "code",
   "execution_count": null,
   "metadata": {},
   "outputs": [],
   "source": [
    "prep_clust = prep_clust.replace({np.nan: \"7\"})\n",
    "prep_clust.head()"
   ]
  },
  {
   "cell_type": "code",
   "execution_count": null,
   "metadata": {},
   "outputs": [],
   "source": [
    "x = preprocessing.normalize(prep_clust, norm='l1')\n",
    "cluster = KMeans(n_clusters=3, random_state=5)\n",
    "cluster.fit(x).labels_"
   ]
  },
  {
   "cell_type": "code",
   "execution_count": null,
   "metadata": {},
   "outputs": [],
   "source": [
    "plt.figure(figsize=(10,7))\n",
    "plt.scatter(x=prep_clust[['mw_freebase']], y=prep_clust.psa, c=cluster.fit(x).labels_, s=50)\n",
    "plt.xlabel('mw_freebase', fontsize=18)\n",
    "plt.ylabel('psa', fontsize=18)\n",
    "plt.show()"
   ]
  },
  {
   "cell_type": "code",
   "execution_count": null,
   "metadata": {},
   "outputs": [],
   "source": [
    "tab_usada['grupos_cluster_knn'] = cluster.fit(x).labels_\n",
    "tab_usada.drop([\"num_ro5_violations\", \"ro3_pass\", \"num_lipinski_ro5_violations\"], axis=1).sort_values(by='grupos_cluster_knn')"
   ]
  },
  {
   "cell_type": "code",
   "execution_count": null,
   "metadata": {},
   "outputs": [],
   "source": [
    "sns.pairplot(tab_usada[['mw_freebase', 'psa', 'grupos_cluster_knn']], hue='grupos_cluster_knn')\n"
   ]
  },
  {
   "cell_type": "code",
   "execution_count": null,
   "metadata": {},
   "outputs": [],
   "source": []
  }
 ],
 "metadata": {
  "kernelspec": {
   "display_name": "Python 3 (ipykernel)",
   "language": "python",
   "name": "python3"
  },
  "language_info": {
   "codemirror_mode": {
    "name": "ipython",
    "version": 3
   },
   "file_extension": ".py",
   "mimetype": "text/x-python",
   "name": "python",
   "nbconvert_exporter": "python",
   "pygments_lexer": "ipython3",
   "version": "3.9.10"
  }
 },
 "nbformat": 4,
 "nbformat_minor": 2
}
