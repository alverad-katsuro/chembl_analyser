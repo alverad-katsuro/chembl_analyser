{
 "cells": [
  {
   "cell_type": "code",
   "execution_count": 1,
   "id": "5db84331-b04f-4896-b712-6c76c8a8ccdc",
   "metadata": {},
   "outputs": [],
   "source": [
    "import numpy as np\n",
    "import pandas as pd\n",
    "import sqlite3"
   ]
  },
  {
   "cell_type": "code",
   "execution_count": 2,
   "id": "67b49716-efa9-4f1d-b89c-efe3e88bf6f5",
   "metadata": {},
   "outputs": [],
   "source": [
    "import sys, os\n",
    "sys.path.append(\"../module/\")\n",
    "from lipinski import * "
   ]
  },
  {
   "cell_type": "code",
   "execution_count": 3,
   "id": "8d51fdce-2fb9-4218-adf9-edae45238274",
   "metadata": {},
   "outputs": [],
   "source": [
    "con_odn = sqlite3.connect(\"../data/ligantes_odn.db\")\n",
    "con_k777 = sqlite3.connect(\"../data/ligantes_k777.db\")"
   ]
  },
  {
   "cell_type": "code",
   "execution_count": 37,
   "id": "235e2890-8b53-4c66-ac48-eb9b1b3f6bc9",
   "metadata": {},
   "outputs": [],
   "source": [
    "odn = pd.read_sql(\"select * from novos_ligantes\", con_odn)"
   ]
  },
  {
   "cell_type": "code",
   "execution_count": 38,
   "id": "f1a19658-a2d8-432d-a5f8-429d62c9786a",
   "metadata": {},
   "outputs": [],
   "source": [
    "k777 = pd.read_sql(\"select * from novos_ligantes\", con_k777)"
   ]
  },
  {
   "cell_type": "code",
   "execution_count": 16,
   "id": "94261c09-47a3-42fd-88b4-f2034a3fca61",
   "metadata": {
    "tags": []
   },
   "outputs": [],
   "source": [
    "def lipinski_trial(dataframe):\n",
    "  '''\n",
    "  Returns which of Lipinski's rules a molecule has failed, or an empty list\n",
    "  \n",
    "  Lipinski's rules are:\n",
    "  Hydrogen bond donors <= 5\n",
    "  Hydrogen bond acceptors <= 10\n",
    "  Molecular weight < 500 daltons\n",
    "  logP < 5\n",
    "  '''\n",
    "  violacoes_list = []\n",
    "  for index, rows in  dataframe.iterrows():\n",
    "    viol = 0\n",
    "    if dataframe.iloc[index].hbd > 5:\n",
    "        viol += 1\n",
    "    if dataframe.iloc[index].hba > 10:\n",
    "        viol += 1\n",
    "    if dataframe.iloc[index].molwt >= 500:\n",
    "        viol += 1\n",
    "    if dataframe.iloc[index].logp >= 5:\n",
    "        viol += 1\n",
    "    violacoes_list.append(viol)\n",
    "  return violacoes_list"
   ]
  },
  {
   "cell_type": "code",
   "execution_count": 41,
   "id": "74853f26-e9b6-4e02-af86-c2323ea0fc59",
   "metadata": {},
   "outputs": [],
   "source": [
    "odn['violacoes_lipinski'] = lipinski_trial(odn)"
   ]
  },
  {
   "cell_type": "code",
   "execution_count": 42,
   "id": "20c3f739-7d51-43e3-b32b-c98d6bef4b1a",
   "metadata": {},
   "outputs": [],
   "source": [
    "k777['violacoes_lipinski'] = lipinski_trial(k777)"
   ]
  },
  {
   "cell_type": "code",
   "execution_count": 54,
   "id": "7d46b7c9-2e6a-4717-aa93-ec407b13d176",
   "metadata": {},
   "outputs": [],
   "source": [
    "odn_50 = odn.loc[(odn.Smiles.str.contains('#')) & (odn.i_tanimoto > 0.4) & (odn.violacoes_lipinski <= 1)].sort_values(by='active_probability', ascending=False)[:50]"
   ]
  },
  {
   "cell_type": "code",
   "execution_count": 55,
   "id": "9a5c6f06-5921-407a-9cf8-1e38656e449f",
   "metadata": {},
   "outputs": [],
   "source": [
    "k777_50 = k777.loc[(k777.Smiles.str.contains('#')) & (k777.i_tanimoto > 0.4) & (k777.violacoes_lipinski <= 1)].sort_values(by='active_probability', ascending=False)[:50]"
   ]
  },
  {
   "cell_type": "code",
   "execution_count": 56,
   "id": "c9a64b27-0a37-445c-b9b2-5184f1e294d1",
   "metadata": {},
   "outputs": [],
   "source": [
    "k777_50.Smiles.to_csv(\"smiles_semelhantes_k777.smi\",index = False, header = False)"
   ]
  },
  {
   "cell_type": "code",
   "execution_count": 57,
   "id": "0303c3ca-e08a-4f50-af76-b10587b66967",
   "metadata": {},
   "outputs": [],
   "source": [
    "odn_50.Smiles.to_csv(\"smiles_semelhantes_odn.smi\",index = False, header = False)"
   ]
  },
  {
   "cell_type": "code",
   "execution_count": null,
   "id": "db484557-365e-49ac-ae1d-29aaa5559352",
   "metadata": {},
   "outputs": [],
   "source": []
  }
 ],
 "metadata": {
  "kernelspec": {
   "display_name": "Python 3.9",
   "language": "python",
   "name": "ml_39"
  },
  "language_info": {
   "codemirror_mode": {
    "name": "ipython",
    "version": 3
   },
   "file_extension": ".py",
   "mimetype": "text/x-python",
   "name": "python",
   "nbconvert_exporter": "python",
   "pygments_lexer": "ipython3",
   "version": "3.9.7"
  }
 },
 "nbformat": 4,
 "nbformat_minor": 5
}
